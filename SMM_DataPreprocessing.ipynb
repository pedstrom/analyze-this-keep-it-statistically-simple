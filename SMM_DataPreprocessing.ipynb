{
 "cells": [
  {
   "cell_type": "markdown",
   "metadata": {},
   "source": [
    "### Created by Kaiwei Ang (Lance)"
   ]
  },
  {
   "cell_type": "code",
   "execution_count": 50,
   "metadata": {
    "collapsed": true
   },
   "outputs": [],
   "source": [
    "import pandas as pd\n",
    "import numpy as np\n",
    "import datetime"
   ]
  },
  {
   "cell_type": "code",
   "execution_count": 4,
   "metadata": {
    "collapsed": true
   },
   "outputs": [],
   "source": [
    "#Loading in all the datasets\n",
    "AnalyData = pd.read_excel('SMM Competitor Workbook 5.25.16.xlsx', sheetname='Analytics Dataset')\n",
    "MbrLvl = pd.read_excel('SMM Competitor Workbook 5.25.16.xlsx', sheetname='Mbrshp Level')\n",
    "PayMthd = pd.read_excel('SMM Competitor Workbook 5.25.16.xlsx', sheetname='Pmt Mthd')\n",
    "SalesChannel = pd.read_excel('SMM Competitor Workbook 5.25.16.xlsx', sheetname='Sales Channel')\n",
    "Offer1st = pd.read_excel('SMM Competitor Workbook 5.25.16.xlsx', sheetname='Offer on 1st Ren Notice')\n",
    "EmlOpt = pd.read_excel('SMM Competitor Workbook 5.25.16.xlsx', sheetname='EMail Options')\n",
    "Demo1 = pd.read_excel('SMM Competitor Workbook 5.25.16.xlsx', sheetname='Demo_1')\n",
    "ZipCd = pd.read_excel('SMM Competitor Workbook 5.25.16.xlsx', sheetname='Zip Code')\n",
    "KeyPpl = pd.read_excel('SMM Competitor Workbook 5.25.16.xlsx', sheetname='Key people on Membership')\n",
    "NumVst = pd.read_excel('SMM Competitor Workbook 5.25.16.xlsx', sheetname='Num Visits')\n",
    "CSI = pd.read_excel('SMM Competitor Workbook 5.25.16.xlsx', sheetname='CSIs')\n",
    "Commu = pd.read_excel('SMM Competitor Workbook 5.25.16.xlsx', sheetname='Communication')\n",
    "#EI = pd.read_excel('SMM NEW Email Indicators 7.6.16.xlsx', sheetname='Sheet1')"
   ]
  },
  {
   "cell_type": "code",
   "execution_count": 3,
   "metadata": {
    "collapsed": false
   },
   "outputs": [],
   "source": [
    "EI = pd.read_excel('SMM NEW Email Indicators 7.6.16.xlsx', sheetname='Sheet1')"
   ]
  },
  {
   "cell_type": "code",
   "execution_count": 236,
   "metadata": {
    "collapsed": true
   },
   "outputs": [],
   "source": [
    "ZC = pd.read_csv(\"zip_code_data/zipdata_dned.csv\")"
   ]
  },
  {
   "cell_type": "code",
   "execution_count": 6,
   "metadata": {
    "collapsed": false
   },
   "outputs": [
    {
     "name": "stdout",
     "output_type": "stream",
     "text": [
      "(9548, 5)\n",
      "(9548, 4)\n",
      "(9534, 9)\n",
      "(9538, 5)\n",
      "(9340, 2)\n",
      "(9548, 5)\n",
      "(9548, 13)\n",
      "(9548, 2)\n",
      "(9548, 2)\n",
      "(9534, 2)\n",
      "(1192, 6)\n",
      "(9105, 6)\n",
      "(9548, 23)\n"
     ]
    }
   ],
   "source": [
    "'''\n",
    "print(PayMthd.dtypes)\n",
    "for cols in PayMthd.columns[1:]:\n",
    "    print(PayMthd[cols].unique())\n",
    "PayMthd.describe()\n",
    "SalesChannel.shape\n",
    "\n",
    "Pay = PayMthd[\"ID Number\"]\n",
    "Pay = Pay.append(pd.Series(np.random.randint(2, size=14)))\n",
    "compare = AnalyData[\"ID Number\"] == Pay'''\n",
    "\n",
    "for i in [AnalyData,MbrLvl,PayMthd,SalesChannel,Offer1st,EmlOpt,Demo1,ZipCd,KeyPpl,NumVst,CSI,Commu,EI]:\n",
    "    print(i.shape)"
   ]
  },
  {
   "cell_type": "markdown",
   "metadata": {},
   "source": [
    "### Transforming and Converting AnalyData"
   ]
  },
  {
   "cell_type": "code",
   "execution_count": 389,
   "metadata": {
    "collapsed": false
   },
   "outputs": [
    {
     "name": "stdout",
     "output_type": "stream",
     "text": [
      "ID Number                   int64\n",
      "Initiation Date    datetime64[ns]\n",
      "Expiration Date    datetime64[ns]\n",
      "Test or Train?             object\n",
      "Renew                     float64\n",
      "Duration                    int64\n",
      "dtype: object\n",
      "ID Number                       298260\n",
      "Initiation Date    2014-10-16 00:00:00\n",
      "Expiration Date    2015-10-15 00:00:00\n",
      "Test or Train?                Training\n",
      "Renew                                0\n",
      "Duration                           364\n",
      "Name: 1, dtype: object\n",
      "[364 595 423 729 394 529 484 425 395 486 609 608 426 456 437 408 385 384\n",
      " 698]\n",
      "ID Number                   int64\n",
      "Initiation Date    datetime64[ns]\n",
      "Expiration Date    datetime64[ns]\n",
      "Test or Train?             object\n",
      "Renew                     float64\n",
      "Duration                    int64\n",
      "dtype: object\n"
     ]
    }
   ],
   "source": [
    "#A quick experiment on datetime64 to int conversion \n",
    "print(AnalyData.dtypes)\n",
    "print(AnalyData.iloc[1,:])\n",
    "d = np.datetime64(AnalyData.iloc[1,2]) - np.datetime64(AnalyData.iloc[1,1])\n",
    "d2 = np.timedelta64(d,'D')\n",
    "d2 = d2.astype(int)\n",
    "\n",
    "#Converting datetime64 to int and getting the duration of membership\n",
    "temp = AnalyData\n",
    "temp[\"Duration\"] = temp.apply(lambda row: np.datetime64(row[\"Expiration Date\"]) - np.datetime64(row[\"Initiation Date\"]),axis=1)\n",
    "temp[\"Duration\"] = temp[\"Duration\"].apply(lambda row: np.timedelta64(row,'D').astype(int))\n",
    "print(temp[\"Duration\"].unique())\n",
    "print(temp.dtypes)\n",
    "AnalyData_mod = temp[\"Duration\"] #AnalyData_mod is a predictor\n",
    "AnalyData_mod.name = \"Duration\"\n",
    "renew = AnalyData[\"Renew\"] #renew is the response"
   ]
  },
  {
   "cell_type": "markdown",
   "metadata": {},
   "source": [
    "### Transforming and Converting MbrLvl"
   ]
  },
  {
   "cell_type": "code",
   "execution_count": 347,
   "metadata": {
    "collapsed": false
   },
   "outputs": [
    {
     "name": "stdout",
     "output_type": "stream",
     "text": [
      "ID Number     int64\n",
      "Mbr1         object\n",
      "Mbr2         object\n",
      "Discount     object\n",
      "dtype: object\n",
      "[1 2]\n",
      "[2 1]\n",
      "['15%' '$5' 0 '39%' '50%' '25%' '$10']\n",
      "[ nan   0.]\n",
      "[ 1.  0.]\n"
     ]
    },
    {
     "name": "stderr",
     "output_type": "stream",
     "text": [
      "/Users/KaiweiAng/anaconda3/lib/python3.5/site-packages/ipykernel/__main__.py:9: SettingWithCopyWarning: \n",
      "A value is trying to be set on a copy of a slice from a DataFrame\n",
      "\n",
      "See the caveats in the documentation: http://pandas.pydata.org/pandas-docs/stable/indexing.html#indexing-view-versus-copy\n",
      "/Users/KaiweiAng/anaconda3/lib/python3.5/site-packages/ipykernel/__main__.py:10: SettingWithCopyWarning: \n",
      "A value is trying to be set on a copy of a slice from a DataFrame\n",
      "\n",
      "See the caveats in the documentation: http://pandas.pydata.org/pandas-docs/stable/indexing.html#indexing-view-versus-copy\n",
      "/Users/KaiweiAng/anaconda3/lib/python3.5/site-packages/ipykernel/__main__.py:12: SettingWithCopyWarning: \n",
      "A value is trying to be set on a copy of a slice from a DataFrame\n",
      "\n",
      "See the caveats in the documentation: http://pandas.pydata.org/pandas-docs/stable/indexing.html#indexing-view-versus-copy\n",
      "/Users/KaiweiAng/anaconda3/lib/python3.5/site-packages/ipykernel/__main__.py:13: SettingWithCopyWarning: \n",
      "A value is trying to be set on a copy of a slice from a DataFrame\n",
      "\n",
      "See the caveats in the documentation: http://pandas.pydata.org/pandas-docs/stable/indexing.html#indexing-view-versus-copy\n"
     ]
    },
    {
     "name": "stdout",
     "output_type": "stream",
     "text": [
      "ID Number    float64\n",
      "Mbr1         float64\n",
      "Mbr2         float64\n",
      "Discount     float64\n",
      "dtype: object\n",
      "Mbr1        int64\n",
      "Mbr2        int64\n",
      "Discount    int64\n",
      "dtype: object\n",
      "    Mbr1  Mbr2  Discount\n",
      "0      1     2         1\n",
      "1      1     1         1\n",
      "2      2     1         1\n",
      "3      1     1         1\n",
      "4      2     1         1\n",
      "5      2     1         0\n",
      "6      1     1         1\n",
      "7      1     1         1\n",
      "8      1     1         0\n",
      "9      2     1         0\n",
      "10     1     1         1\n",
      "11     1     1         1\n",
      "1    8783\n",
      "2     765\n",
      "Name: Mbr2, dtype: int64\n",
      "0    6513\n",
      "1    3035\n",
      "Name: Discount, dtype: int64\n"
     ]
    }
   ],
   "source": [
    "print(MbrLvl.dtypes) \n",
    "for col in MbrLvl.columns[1:]:\n",
    "    print(MbrLvl[col].unique())\n",
    "temp = pd.to_numeric(MbrLvl[\"Discount\"],errors='coerce')\n",
    "print(temp.unique())\n",
    "temp[pd.isnull(temp)] = 1 #assigning 1 to all the rows with any discount \n",
    "print(temp.unique())\n",
    "temp2 = MbrLvl[\"Mbr1\"]\n",
    "temp2[temp2 == \"A\"] = 1\n",
    "temp2[temp2 == \"B\"] = 2\n",
    "temp3 = MbrLvl[\"Mbr2\"]\n",
    "temp3[temp3 == \"A\"] = 1\n",
    "temp3[temp3 == \"B\"] = 2\n",
    "TEMP = pd.DataFrame([MbrLvl[\"ID Number\"],temp2,temp3,temp])\n",
    "TEMP = TEMP.transpose()\n",
    "print(TEMP.dtypes)\n",
    "MbrLvl_mod = TEMP.astype(int) #MbrLvl_mod is a predictor\n",
    "MbrLvl_mod = MbrLvl_mod[MbrLvl_mod.columns[1:]]\n",
    "print(MbrLvl_mod.dtypes)\n",
    "print(MbrLvl_mod.head(12))\n",
    "for i in MbrLvl_mod.columns[1:]:\n",
    "    print(pd.value_counts(MbrLvl_mod[i]))"
   ]
  },
  {
   "cell_type": "markdown",
   "metadata": {},
   "source": [
    "### Transforming and Converting PayMthd "
   ]
  },
  {
   "cell_type": "code",
   "execution_count": 98,
   "metadata": {
    "collapsed": false
   },
   "outputs": [
    {
     "name": "stdout",
     "output_type": "stream",
     "text": [
      "ID Number     int64\n",
      "Pmt_Cash      int64\n",
      "Pmt_Chk       int64\n",
      "Pmt_GftCrd    int64\n",
      "Pmt_CrCrdA    int64\n",
      "Pmt_CrCrdE    int64\n",
      "Pmt_CrCrdB    int64\n",
      "Pmt_CrCrdF    int64\n",
      "TTI           int64\n",
      "dtype: object\n",
      "            ID Number     Pmt_Cash      Pmt_Chk   Pmt_GftCrd   Pmt_CrCrdA  \\\n",
      "count     9534.000000  9534.000000  9534.000000  9534.000000  9534.000000   \n",
      "mean   6785434.633942     0.066709     0.009545     0.073107     0.096811   \n",
      "std     714688.629716     0.249530     0.097235     0.260325     0.295716   \n",
      "min     236764.000000     0.000000     0.000000     0.000000     0.000000   \n",
      "25%    6883203.000000     0.000000     0.000000     0.000000     0.000000   \n",
      "50%    6937346.000000     0.000000     0.000000     0.000000     0.000000   \n",
      "75%    6990246.000000     0.000000     0.000000     0.000000     0.000000   \n",
      "max    7401876.000000     1.000000     1.000000     1.000000     1.000000   \n",
      "\n",
      "        Pmt_CrCrdE   Pmt_CrCrdB   Pmt_CrCrdF          TTI  \n",
      "count  9534.000000  9534.000000  9534.000000  9534.000000  \n",
      "mean      0.048668     0.142752     0.563352     0.054542  \n",
      "std       0.215184     0.349838     0.495996     0.227095  \n",
      "min       0.000000     0.000000     0.000000     0.000000  \n",
      "25%       0.000000     0.000000     0.000000     0.000000  \n",
      "50%       0.000000     0.000000     1.000000     0.000000  \n",
      "75%       0.000000     0.000000     1.000000     0.000000  \n",
      "max       1.000000     1.000000     1.000000     1.000000  \n",
      "[0 1]\n",
      "[0 1]\n",
      "[0 1]\n",
      "[0 1]\n",
      "[0 1]\n",
      "[0 1]\n",
      "[1 0]\n",
      "[0 1]\n"
     ]
    }
   ],
   "source": [
    "#An overview of PayMthd\n",
    "print(PayMthd.dtypes)\n",
    "print(PayMthd.describe())\n",
    "for col in PayMthd.columns[1:]:\n",
    "    print(PayMthd[col].unique())"
   ]
  },
  {
   "cell_type": "code",
   "execution_count": 383,
   "metadata": {
    "collapsed": false
   },
   "outputs": [
    {
     "name": "stdout",
     "output_type": "stream",
     "text": [
      "Int64Index([ 401,  531,  552,  560,  565,  598,  603, 1139, 1766, 3679, 4924,\n",
      "            5029, 5631, 8514, 8632],\n",
      "           dtype='int64')\n",
      "Original size: (9534, 9)\n",
      "Modified size: (9549, 9)\n",
      "Do not belong to ID: 7229    6993112\n",
      "Name: ID Number, dtype: int64\n",
      "9548\n",
      "7401876\n",
      "7045672\n",
      "7045672\n",
      "7045672\n",
      "9548\n"
     ]
    }
   ],
   "source": [
    "#Transform PayMthd to have same number of rows with AnalyData\n",
    "ID = AnalyData[\"ID Number\"]\n",
    "cmpr = ID.isin(PayMthd[\"ID Number\"])\n",
    "print(cmpr[cmpr==0].index)\n",
    "temp = PayMthd\n",
    "print(\"Original size:\", temp.shape)\n",
    "l=[]\n",
    "for idx in list(cmpr[cmpr==0].index):\n",
    "    l.append([ID[idx],0,0,0,0,0,0,0,0])\n",
    "temp = temp.append(pd.DataFrame(l, columns=list(PayMthd.columns)),ignore_index=True)\n",
    "print(\"Modified size:\", temp.shape)\n",
    "cmpr2 = temp[\"ID Number\"].isin(ID)\n",
    "print(\"Do not belong to ID:\",temp[\"ID Number\"][cmpr2[cmpr2==0].index])\n",
    "temp = temp.drop(cmpr2[cmpr2==0].index)\n",
    "temp = temp.sort_values(\"ID Number\")\n",
    "print(sum(temp[\"ID Number\"]==ID))\n",
    "\n",
    "#Reset index\n",
    "print(temp[\"ID Number\"][9533])\n",
    "print(AnalyData[\"ID Number\"][9533])\n",
    "temp2 = temp.reset_index(drop=True)\n",
    "print(temp2[\"ID Number\"][9533])\n",
    "print(AnalyData[\"ID Number\"][9533])\n",
    "print(sum(temp2[\"ID Number\"]==AnalyData[\"ID Number\"]))"
   ]
  },
  {
   "cell_type": "code",
   "execution_count": 384,
   "metadata": {
    "collapsed": false
   },
   "outputs": [
    {
     "name": "stdout",
     "output_type": "stream",
     "text": [
      "['Pmt_CrCrdF' 'Pmt_CrCrdA' 'Pmt_CrCrdB' 'Pmt_CrCrdE' 'Pmt_GftCrd'\n",
      " 'Pmt_Cash' 'Pmt_Chk' 'TTI']\n",
      "Pmt_CrCrdF    5356\n",
      "Pmt_CrCrdB    1357\n",
      "Pmt_CrCrdA     923\n",
      "Pmt_GftCrd     697\n",
      "Pmt_Cash       651\n",
      "Pmt_CrCrdE     464\n",
      "Pmt_Chk         91\n",
      "TTI              9\n",
      "dtype: int64\n",
      "1    5371\n",
      "2    1357\n",
      "3     923\n",
      "4     697\n",
      "5     636\n",
      "6     464\n",
      "7      91\n",
      "8       9\n",
      "dtype: int64\n",
      "[1 2 0 3]\n",
      "1    5385\n",
      "2    1360\n",
      "3     921\n",
      "4     697\n",
      "5     622\n",
      "6     463\n",
      "7      91\n",
      "8       9\n",
      "dtype: int64\n"
     ]
    }
   ],
   "source": [
    "#Convert the multiple columns into 1 column. This will be one of the predictors \n",
    "maxi = temp2[temp2.columns[1:]].idxmax(axis=1)\n",
    "print(maxi.unique())\n",
    "print(pd.value_counts(maxi))\n",
    "maxi[maxi==\"Pmt_CrCrdF\"] = 1\n",
    "maxi[maxi==\"Pmt_CrCrdB\"] = 2\n",
    "maxi[maxi==\"Pmt_CrCrdA\"] = 3\n",
    "maxi[maxi==\"Pmt_CrCrdE\"] = 6\n",
    "maxi[maxi==\"Pmt_GftCrd\"] = 4\n",
    "maxi[maxi==\"Pmt_Cash\"] = 5\n",
    "maxi[maxi==\"Pmt_Chk\"] = 7\n",
    "maxi[maxi==\"TTI\"] = 8\n",
    "maxi.loc[cmpr[cmpr==0].index] = 1\n",
    "print(pd.value_counts(maxi))\n",
    "\n",
    "#When a row has multiple columns with 1, choose only the column with the most occurrence of 1\n",
    "total = temp2[temp2.columns[1:]].sum(axis=1)\n",
    "print(total.unique())\n",
    "total_logical = (total==2) | (total ==3)\n",
    "for idx in total_logical[total_logical].index:\n",
    "    if temp2[\"Pmt_CrCrdF\"][idx] == 1: maxi[idx]=1\n",
    "    elif temp2[\"Pmt_CrCrdB\"][idx] == 1: maxi[idx]=2\n",
    "    elif temp2[\"Pmt_CrCrdA\"][idx] == 1: maxi[idx]=3\n",
    "    elif temp2[\"Pmt_GftCrd\"][idx] == 1: maxi[idx]=4\n",
    "    elif temp2[\"Pmt_Cash\"][idx] == 1: maxi[idx]=5\n",
    "    elif temp2[\"Pmt_CrCrdE\"][idx] == 1: maxi[idx]=6\n",
    "    elif temp2[\"Pmt_Chk\"][idx] == 1: maxi[idx]=7\n",
    "    elif temp2[\"TTI\"][idx] == 1: maxi[idx]=8\n",
    "print(pd.value_counts(maxi))\n",
    "PayMthd_mod = maxi.astype(int) #PayMthd_mod is a predictor\n",
    "PayMthd_mod.name = \"PayMthd\""
   ]
  },
  {
   "cell_type": "markdown",
   "metadata": {},
   "source": [
    "### Transforming and Converting SalesChannel"
   ]
  },
  {
   "cell_type": "code",
   "execution_count": 101,
   "metadata": {
    "collapsed": false
   },
   "outputs": [
    {
     "name": "stdout",
     "output_type": "stream",
     "text": [
      "ID Number        int64\n",
      "In Person        int64\n",
      "Inbound Phone    int64\n",
      "Mail             int64\n",
      "Web              int64\n",
      "dtype: object\n",
      "            ID Number    In Person  Inbound Phone         Mail          Web\n",
      "count     9538.000000  9538.000000    9538.000000  9538.000000  9538.000000\n",
      "mean   6785451.072342     0.713881       0.082093     0.007863     0.196372\n",
      "std     714545.060286     0.452665       0.274520     0.088330     0.397274\n",
      "min     236764.000000     0.000000       0.000000     0.000000     0.000000\n",
      "25%    6883174.000000     0.000000       0.000000     0.000000     0.000000\n",
      "50%    6937334.000000     1.000000       0.000000     0.000000     0.000000\n",
      "75%    6990246.000000     1.000000       0.000000     0.000000     0.000000\n",
      "max    7401876.000000     3.000000       1.000000     1.000000     1.000000\n",
      "[1 0 3]\n",
      "[0 1]\n",
      "[0 1]\n",
      "[0 1]\n"
     ]
    }
   ],
   "source": [
    "#An overview of SalesChannel \n",
    "print(SalesChannel.dtypes)\n",
    "print(SalesChannel.describe())\n",
    "for col in SalesChannel.columns[1:]:\n",
    "    print(SalesChannel[col].unique())"
   ]
  },
  {
   "cell_type": "code",
   "execution_count": 385,
   "metadata": {
    "collapsed": false
   },
   "outputs": [
    {
     "name": "stdout",
     "output_type": "stream",
     "text": [
      "Int64Index([401, 531, 560, 565, 598, 1139, 3679, 4924, 5029, 5631, 8514], dtype='int64')\n",
      "Empty DataFrame\n",
      "Columns: [ID Number, In Person, Inbound Phone, Mail, Web]\n",
      "Index: []\n",
      "Original size: (9538, 5)\n",
      "Modified size: (9549, 5)\n",
      "Do not belong to ID: 7232    6993112\n",
      "Name: ID Number, dtype: int64\n",
      "9548\n",
      "7401876\n",
      "7045740\n",
      "7045672\n",
      "7045672\n",
      "9548\n"
     ]
    }
   ],
   "source": [
    "#Transform SalesChannel to have same number of rows with AnalyData\n",
    "ID = AnalyData[\"ID Number\"]\n",
    "cmpr = ID.isin(SalesChannel[\"ID Number\"])\n",
    "print(cmpr[cmpr==0].index)\n",
    "print(SalesChannel[SalesChannel[\"ID Number\"]==ID[560]])\n",
    "temp = SalesChannel\n",
    "print(\"Original size:\", temp.shape)\n",
    "l=[]\n",
    "for idx in list(cmpr[cmpr==0].index):\n",
    "    l.append([ID[idx],0,0,0,0])\n",
    "temp = temp.append(pd.DataFrame(l, columns=list(temp.columns)),ignore_index=True)\n",
    "print(\"Modified size:\", temp.shape)\n",
    "cmpr2 = temp[\"ID Number\"].isin(ID)\n",
    "print(\"Do not belong to ID:\",temp[\"ID Number\"][cmpr2[cmpr2==0].index])\n",
    "temp = temp.drop(cmpr2[cmpr2==0].index)\n",
    "temp = temp.sort_values(\"ID Number\")\n",
    "print(sum(temp[\"ID Number\"]==ID))\n",
    "\n",
    "#Reset index\n",
    "print(temp[\"ID Number\"][9537])\n",
    "print(AnalyData[\"ID Number\"][9537])\n",
    "temp2 = temp.reset_index(drop=True)\n",
    "print(temp2[\"ID Number\"][9533])\n",
    "print(AnalyData[\"ID Number\"][9533])\n",
    "print(sum(temp2[\"ID Number\"]==AnalyData[\"ID Number\"]))"
   ]
  },
  {
   "cell_type": "code",
   "execution_count": 388,
   "metadata": {
    "collapsed": false
   },
   "outputs": [
    {
     "name": "stdout",
     "output_type": "stream",
     "text": [
      "[1 0]\n",
      "Series([], dtype: int64)\n",
      "ID Number        6868840\n",
      "In Person              1\n",
      "Inbound Phone          0\n",
      "Mail                   0\n",
      "Web                    0\n",
      "Name: 1890, dtype: int64\n",
      "ID Number        6868840\n",
      "In Person              1\n",
      "Inbound Phone          0\n",
      "Mail                   0\n",
      "Web                    0\n",
      "Name: 1890, dtype: int64\n",
      "['In Person' 'Inbound Phone' 'Web' 'Mail']\n",
      "In Person        6817\n",
      "Web              1873\n",
      "Inbound Phone     783\n",
      "Mail               75\n",
      "dtype: int64\n",
      "1    6817\n",
      "2    1873\n",
      "3     783\n",
      "4      75\n",
      "dtype: int64\n"
     ]
    }
   ],
   "source": [
    "#Convert the multiple columns into 1 column. This will be one of the predictors \n",
    "print(temp2[temp2.columns[1:]].sum(axis=1).unique())\n",
    "a = temp2[temp2.columns[1:]].max(axis=1)\n",
    "print(a[a==3])\n",
    "print(temp2.loc[1890])\n",
    "temp2[\"In Person\"][1890] = 1\n",
    "print(temp2.loc[1890])\n",
    "maxi = temp2[temp2.columns[1:]].idxmax(axis=1)\n",
    "print(maxi.unique())\n",
    "print(pd.value_counts(maxi))\n",
    "maxi[maxi==\"In Person\"] = 1\n",
    "maxi[maxi==\"Web\"] = 2\n",
    "maxi[maxi==\"Inbound Phone\"] = 3\n",
    "maxi[maxi==\"Mail\"] = 4\n",
    "maxi.loc[cmpr[cmpr==0].index] = 1\n",
    "print(pd.value_counts(maxi))\n",
    "SalesChannel_mod = maxi.astype(int) #SalesChannel_mod is a predictor\n",
    "SalesChannel_mod.name = \"SalesChannel\""
   ]
  },
  {
   "cell_type": "markdown",
   "metadata": {},
   "source": [
    "### Transforming and Converting CSI"
   ]
  },
  {
   "cell_type": "code",
   "execution_count": 106,
   "metadata": {
    "collapsed": false
   },
   "outputs": [
    {
     "name": "stdout",
     "output_type": "stream",
     "text": [
      "ID Number                     int64\n",
      "Account Modification          int64\n",
      "Regular card replacement      int64\n",
      "Other Card                    int64\n",
      "Expedited card replacement    int64\n",
      "Membership Issue              int64\n",
      "dtype: object\n",
      "[1 0]\n",
      "[0 1]\n",
      "[0 1]\n",
      "[1 0]\n",
      "[0 1]\n",
      "ID Number                     8043932312\n",
      "Account Modification                  27\n",
      "Regular card replacement             409\n",
      "Other Card                           156\n",
      "Expedited card replacement           599\n",
      "Membership Issue                      46\n",
      "dtype: int64\n"
     ]
    }
   ],
   "source": [
    "#An overview of CSI\n",
    "print(CSI.dtypes)\n",
    "for col in CSI.columns[1:]:\n",
    "    print(CSI[col].unique())\n",
    "print(CSI.sum())"
   ]
  },
  {
   "cell_type": "code",
   "execution_count": 377,
   "metadata": {
    "collapsed": false
   },
   "outputs": [
    {
     "name": "stdout",
     "output_type": "stream",
     "text": [
      "Int64Index([   0,    2,    3,    4,    5,    6,    7,    8,    9,   10,\n",
      "            ...\n",
      "            9533, 9535, 9537, 9540, 9541, 9542, 9543, 9544, 9545, 9547],\n",
      "           dtype='int64', length=8357)\n",
      "Empty DataFrame\n",
      "Columns: [ID Number, Account Modification, Regular card replacement, Other Card, Expedited card replacement, Membership Issue]\n",
      "Index: []\n",
      "Original size: (1192, 6)\n",
      "Modified size: (9549, 6)\n",
      "Do not belong to ID: 281    6871452\n",
      "Name: ID Number, dtype: int64\n",
      "9548\n",
      "7045584\n",
      "7045740\n",
      "7045672\n",
      "7045672\n",
      "9548\n"
     ]
    }
   ],
   "source": [
    "#Transform CSI to have same number of rows with AnalyData\n",
    "ID = AnalyData[\"ID Number\"]\n",
    "cmpr = ID.isin(CSI[\"ID Number\"])\n",
    "print(cmpr[cmpr==0].index)\n",
    "print(CSI[CSI[\"ID Number\"]==ID[9533]])\n",
    "temp = CSI\n",
    "print(\"Original size:\", temp.shape)\n",
    "l=[]\n",
    "for idx in list(cmpr[cmpr==0].index):\n",
    "    l.append([ID[idx],0,0,0,0,0])\n",
    "temp = temp.append(pd.DataFrame(l, columns=list(temp.columns)),ignore_index=True)\n",
    "print(\"Modified size:\", temp.shape)\n",
    "cmpr2 = temp[\"ID Number\"].isin(ID)\n",
    "print(\"Do not belong to ID:\",temp[\"ID Number\"][cmpr2[cmpr2==0].index])\n",
    "temp = temp.drop(cmpr2[cmpr2==0].index)\n",
    "temp = temp.sort_values(\"ID Number\")\n",
    "print(sum(temp[\"ID Number\"]==ID))\n",
    "\n",
    "#Reset index\n",
    "print(temp[\"ID Number\"][9537])\n",
    "print(AnalyData[\"ID Number\"][9537])\n",
    "temp2 = temp.reset_index(drop=True)\n",
    "print(temp2[\"ID Number\"][9533])\n",
    "print(AnalyData[\"ID Number\"][9533])\n",
    "print(sum(temp2[\"ID Number\"]==AnalyData[\"ID Number\"]))"
   ]
  },
  {
   "cell_type": "code",
   "execution_count": 378,
   "metadata": {
    "collapsed": false
   },
   "outputs": [
    {
     "name": "stdout",
     "output_type": "stream",
     "text": [
      "['Account Modification' 'Regular card replacement'\n",
      " 'Expedited card replacement' 'Membership Issue' 'Other Card']\n",
      "Account Modification          8427\n",
      "Expedited card replacement     543\n",
      "Regular card replacement       408\n",
      "Other Card                     143\n",
      "Membership Issue                27\n",
      "dtype: int64\n",
      "0    8357\n",
      "4     543\n",
      "2     408\n",
      "3     143\n",
      "1      70\n",
      "5      27\n",
      "dtype: int64\n",
      "[0 2 1 3]\n",
      "0    8357\n",
      "4     598\n",
      "2     383\n",
      "3     122\n",
      "1      61\n",
      "5      27\n",
      "dtype: int64\n"
     ]
    }
   ],
   "source": [
    "#Convert the multiple columns into 1 column. This will be one of the predictors \n",
    "maxi = temp2[temp2.columns[1:]].idxmax(axis=1)\n",
    "print(maxi.unique())\n",
    "print(pd.value_counts(maxi))\n",
    "maxi[maxi==\"Account Modification\"] = 1\n",
    "maxi[maxi==\"Regular card replacement\"] = 2\n",
    "maxi[maxi==\"Other Card\"] = 3\n",
    "maxi[maxi==\"Expedited card replacement\"] = 4\n",
    "maxi[maxi==\"Membership Issue\"] = 5\n",
    "maxi.loc[cmpr[cmpr==0].index] = 0\n",
    "print(pd.value_counts(maxi))\n",
    "\n",
    "#When a row has multiple columns with 1, choose only the column with the most occurrence of 1\n",
    "total = temp2[temp2.columns[1:]].sum(axis=1)\n",
    "print(total.unique())\n",
    "total_logical = (total==2) | (total ==3)\n",
    "for idx in total_logical[total_logical].index:\n",
    "    if temp2[\"Expedited card replacement\"][idx] == 1: maxi[idx]=4\n",
    "    elif temp2[\"Regular card replacement\"][idx] == 1: maxi[idx]=2\n",
    "    elif temp2[\"Other Card\"][idx] == 1: maxi[idx]=3\n",
    "    elif temp2[\"Account Modification\"][idx] == 1: maxi[idx]=1\n",
    "    elif temp2[\"Membership Issue\"][idx] == 1: maxi[idx]=5\n",
    "print(pd.value_counts(maxi))\n",
    "CSI_mod = maxi.astype(int) #CSI_mod is a predictor\n",
    "CSI_mod.name = \"CSI\""
   ]
  },
  {
   "cell_type": "markdown",
   "metadata": {},
   "source": [
    "### Transforming and Converting Offer1st"
   ]
  },
  {
   "cell_type": "code",
   "execution_count": 212,
   "metadata": {
    "collapsed": false
   },
   "outputs": [
    {
     "name": "stdout",
     "output_type": "stream",
     "text": [
      "ID Number                  int64\n",
      "Offer on 1st Ren Notice    int64\n",
      "dtype: object\n",
      "[1 0]\n",
      "1    6605\n",
      "0    2735\n",
      "dtype: int64\n",
      "(9340, 2)\n"
     ]
    }
   ],
   "source": [
    "#An overview of Offer1st\n",
    "print(Offer1st.dtypes)\n",
    "for col in Offer1st.columns[1:]:\n",
    "    print(Offer1st[col].unique())\n",
    "print(pd.value_counts(Offer1st[Offer1st.columns[1:]].sum(axis=1)))\n",
    "print(Offer1st.shape)"
   ]
  },
  {
   "cell_type": "code",
   "execution_count": 213,
   "metadata": {
    "collapsed": false
   },
   "outputs": [
    {
     "name": "stdout",
     "output_type": "stream",
     "text": [
      "Int64Index([  19,   30,   54,   67,  119,  161,  293,  352,  389,  464,\n",
      "            ...\n",
      "            8882, 8978, 9112, 9138, 9140, 9159, 9256, 9294, 9457, 9469],\n",
      "           dtype='int64', length=209)\n",
      "Empty DataFrame\n",
      "Columns: [ID Number, Offer on 1st Ren Notice]\n",
      "Index: []\n",
      "Original size: (9340, 2)\n",
      "Modified size: (9549, 2)\n",
      "Do not belong to ID: 7074    6993112\n",
      "Name: ID Number, dtype: int64\n",
      "9548\n",
      "7031420\n",
      "7045740\n",
      "7045672\n",
      "7045672\n",
      "9548\n",
      "1    6813\n",
      "0    2735\n",
      "Name: Offer on 1st Ren Notice, dtype: int64\n",
      "0    1\n",
      "1    1\n",
      "2    1\n",
      "3    0\n",
      "4    0\n",
      "5    1\n",
      "6    1\n",
      "7    1\n",
      "Name: Offer on 1st Ren Notice, dtype: int64\n"
     ]
    }
   ],
   "source": [
    "#Transform Offer1st to have same number of rows with AnalyData\n",
    "ID = AnalyData[\"ID Number\"]\n",
    "cmpr = ID.isin(Offer1st[\"ID Number\"])\n",
    "print(cmpr[cmpr==0].index)\n",
    "print(Offer1st[Offer1st[\"ID Number\"]==ID[30]])\n",
    "temp = Offer1st\n",
    "print(\"Original size:\", temp.shape)\n",
    "l=[]\n",
    "for idx in list(cmpr[cmpr==0].index):\n",
    "    l.append([ID[idx],1])\n",
    "temp = temp.append(pd.DataFrame(l, columns=list(temp.columns)),ignore_index=True)\n",
    "print(\"Modified size:\", temp.shape)\n",
    "cmpr2 = temp[\"ID Number\"].isin(ID)\n",
    "print(\"Do not belong to ID:\",temp[\"ID Number\"][cmpr2[cmpr2==0].index])\n",
    "temp = temp.drop(cmpr2[cmpr2==0].index)\n",
    "temp = temp.sort_values(\"ID Number\")\n",
    "print(sum(temp[\"ID Number\"]==ID))\n",
    "\n",
    "#Reset index\n",
    "print(temp[\"ID Number\"][9537])\n",
    "print(AnalyData[\"ID Number\"][9537])\n",
    "temp2 = temp.reset_index(drop=True)\n",
    "print(temp2[\"ID Number\"][9533])\n",
    "print(AnalyData[\"ID Number\"][9533])\n",
    "print(sum(temp2[\"ID Number\"]==AnalyData[\"ID Number\"]))\n",
    "\n",
    "print(pd.value_counts(temp2[\"Offer on 1st Ren Notice\"]))\n",
    "Offer1st_mod = temp2[\"Offer on 1st Ren Notice\"].astype(int) #Offer1st_mod is a predictor\n",
    "print(Offer1st_mod.head(8))"
   ]
  },
  {
   "cell_type": "markdown",
   "metadata": {},
   "source": [
    "### EmlOpt (Nothing much to change)"
   ]
  },
  {
   "cell_type": "code",
   "execution_count": 196,
   "metadata": {
    "collapsed": false
   },
   "outputs": [
    {
     "name": "stdout",
     "output_type": "stream",
     "text": [
      "ID Number               int64\n",
      "NoEmail                 int64\n",
      "Sch&EducNewsEmail       int64\n",
      "SMMNewsEmail            int64\n",
      "WarnerNatCtNewsEmail    int64\n",
      "dtype: object\n",
      "[0 1]\n",
      "[1 0]\n",
      "[1 0]\n",
      "[0 1]\n",
      "NoEmail                 1466\n",
      "Sch&EducNewsEmail        643\n",
      "SMMNewsEmail            7248\n",
      "WarnerNatCtNewsEmail     137\n",
      "dtype: int64\n",
      "1    7877\n",
      "0     877\n",
      "2     766\n",
      "3      27\n",
      "4       1\n",
      "dtype: int64\n",
      "(9548, 5)\n"
     ]
    }
   ],
   "source": [
    "#An overview of EmlOpt\n",
    "print(EmlOpt.dtypes)\n",
    "for col in EmlOpt.columns[1:]:\n",
    "    print(EmlOpt[col].unique())\n",
    "print(EmlOpt[EmlOpt.columns[1:]].sum())\n",
    "print(pd.value_counts(EmlOpt[EmlOpt.columns[1:]].sum(axis=1)))\n",
    "print(EmlOpt.shape)\n",
    "EmlOpt_mod = EmlOpt[EmlOpt.columns[1:]] #EmlOpt_mod is a predictor"
   ]
  },
  {
   "cell_type": "markdown",
   "metadata": {},
   "source": [
    "### Transforming and Converting Demo1"
   ]
  },
  {
   "cell_type": "code",
   "execution_count": 171,
   "metadata": {
    "collapsed": false
   },
   "outputs": [
    {
     "name": "stdout",
     "output_type": "stream",
     "text": [
      "ID Number    int64\n",
      "Demo1_B      int64\n",
      "Demo1_C      int64\n",
      "Demo1_D      int64\n",
      "Demo1_E      int64\n",
      "Demo1_F      int64\n",
      "Demo1_G      int64\n",
      "Demo1_H      int64\n",
      "Demo1_I      int64\n",
      "Demo1_J      int64\n",
      "Demo1_K      int64\n",
      "Demo1_L      int64\n",
      "Demo1_M      int64\n",
      "dtype: object\n",
      "[1 0]\n",
      "[0 1]\n",
      "[0 1]\n",
      "[0 1]\n",
      "[0 1]\n",
      "[0 1]\n",
      "[0 1]\n",
      "[0 1]\n",
      "[0 1]\n",
      "[0 1]\n",
      "[0 1]\n",
      "[0 1]\n",
      "Demo1_B    1840\n",
      "Demo1_C     812\n",
      "Demo1_D    3112\n",
      "Demo1_E    1900\n",
      "Demo1_F    1049\n",
      "Demo1_G     420\n",
      "Demo1_H     179\n",
      "Demo1_I      93\n",
      "Demo1_J      56\n",
      "Demo1_K      32\n",
      "Demo1_L      22\n",
      "Demo1_M      33\n",
      "dtype: int64\n",
      "1    9548\n",
      "dtype: int64\n",
      "(9548, 13)\n"
     ]
    }
   ],
   "source": [
    "#An overview of Demo1\n",
    "print(Demo1.dtypes)\n",
    "for col in Demo1.columns[1:]:\n",
    "    print(Demo1[col].unique())\n",
    "print(Demo1[Demo1.columns[1:]].sum())\n",
    "print(pd.value_counts(Demo1[Demo1.columns[1:]].sum(axis=1)))\n",
    "print(Demo1.shape)"
   ]
  },
  {
   "cell_type": "code",
   "execution_count": 189,
   "metadata": {
    "collapsed": false
   },
   "outputs": [
    {
     "name": "stdout",
     "output_type": "stream",
     "text": [
      "       0   1   2   3   4   5   6   7   8   9   10  11  12\n",
      "0  236764   1   0   0   0   0   0   0   0   0   0   0   0\n",
      "1  298260   0   0   0   0   0   1   0   0   0   0   0   0\n",
      "2  300288   1   0   0   0   0   0   0   0   0   0   0   0\n",
      "3  300552   0   0   0   0   0   0   0   1   0   0   0   0\n",
      "4  311620   1   0   0   0   0   0   0   0   0   0   0   0\n",
      "0     1\n",
      "1     6\n",
      "2     1\n",
      "3     8\n",
      "4     1\n",
      "5     1\n",
      "6     3\n",
      "7     3\n",
      "8     3\n",
      "9     1\n",
      "10    5\n",
      "11    7\n",
      "Name: Demo1, dtype: int64\n",
      "3     3112\n",
      "4     1900\n",
      "1     1840\n",
      "5     1049\n",
      "2      812\n",
      "6      420\n",
      "7      179\n",
      "8       93\n",
      "9       56\n",
      "12      33\n",
      "10      32\n",
      "11      22\n",
      "Name: Demo1, dtype: int64\n"
     ]
    }
   ],
   "source": [
    "#Convert the multiple columns into 1 column. This will be one of the predictors \n",
    "temp = Demo1\n",
    "temp.columns = [0,1,2,3,4,5,6,7,8,9,10,11,12]\n",
    "print(temp.head())\n",
    "maxi = temp[temp.columns[1:]].idxmax(axis=1)\n",
    "maxi.name = 'Demo1'\n",
    "print(maxi.head(12))\n",
    "print(pd.value_counts(maxi))\n",
    "Demo1_mod = maxi #Demo1_mod is a predictor"
   ]
  },
  {
   "cell_type": "markdown",
   "metadata": {},
   "source": [
    "### KeyPpl (Nothing much to change)"
   ]
  },
  {
   "cell_type": "code",
   "execution_count": 214,
   "metadata": {
    "collapsed": false
   },
   "outputs": [
    {
     "name": "stdout",
     "output_type": "stream",
     "text": [
      "ID Number                         int64\n",
      "Number of key people on record    int64\n",
      "dtype: object\n",
      "[2 1]\n",
      "Number of key people on record    16769\n",
      "dtype: int64\n",
      "2    7221\n",
      "1    2327\n",
      "dtype: int64\n",
      "(9548, 2)\n"
     ]
    }
   ],
   "source": [
    "#An overview of KeyPpl\n",
    "print(KeyPpl.dtypes)\n",
    "for col in KeyPpl.columns[1:]:\n",
    "    print(KeyPpl[col].unique())\n",
    "print(KeyPpl[KeyPpl.columns[1:]].sum())\n",
    "print(pd.value_counts(KeyPpl[KeyPpl.columns[1:]].sum(axis=1)))\n",
    "print(KeyPpl.shape)\n",
    "KeyPpl_mod = KeyPpl[KeyPpl.columns[1:]] #KeyPpl_mod is a predictor\n",
    "KeyPpl_mod.name = \"KeyPpl\""
   ]
  },
  {
   "cell_type": "markdown",
   "metadata": {},
   "source": [
    "### Tranforming and Converting NumVst"
   ]
  },
  {
   "cell_type": "code",
   "execution_count": 215,
   "metadata": {
    "collapsed": false
   },
   "outputs": [
    {
     "name": "stdout",
     "output_type": "stream",
     "text": [
      "ID Number           int64\n",
      "Number of Visits    int64\n",
      "dtype: object\n",
      "[ 1  2  6  0  5  3  4  8  7 10  9 11 14 15 12 13 18 16 20 17 21 24 34 25]\n",
      "Number of Visits    25954\n",
      "dtype: int64\n",
      "1     2703\n",
      "2     2489\n",
      "3     1714\n",
      "4      999\n",
      "5      554\n",
      "6      347\n",
      "0      239\n",
      "7      172\n",
      "8      136\n",
      "9       63\n",
      "10      54\n",
      "11      18\n",
      "12      16\n",
      "13       8\n",
      "15       6\n",
      "16       4\n",
      "14       3\n",
      "18       2\n",
      "17       2\n",
      "25       1\n",
      "20       1\n",
      "21       1\n",
      "24       1\n",
      "34       1\n",
      "dtype: int64\n",
      "(9534, 2)\n"
     ]
    }
   ],
   "source": [
    "#An overview of NumVst\n",
    "print(NumVst.dtypes)\n",
    "for col in NumVst.columns[1:]:\n",
    "    print(NumVst[col].unique())\n",
    "print(NumVst[NumVst.columns[1:]].sum())\n",
    "print(pd.value_counts(NumVst[NumVst.columns[1:]].sum(axis=1)))\n",
    "print(NumVst.shape)"
   ]
  },
  {
   "cell_type": "code",
   "execution_count": 217,
   "metadata": {
    "collapsed": false
   },
   "outputs": [
    {
     "name": "stdout",
     "output_type": "stream",
     "text": [
      "Int64Index([ 401,  531,  552,  560,  565,  598,  603, 1139, 1766, 3679, 4924,\n",
      "            5029, 5631, 8514, 8632],\n",
      "           dtype='int64')\n",
      "Empty DataFrame\n",
      "Columns: [ID Number, Number of Visits]\n",
      "Index: []\n",
      "Original size: (9534, 2)\n",
      "Modified size: (9549, 2)\n",
      "Do not belong to ID: 7229    6993112\n",
      "Name: ID Number, dtype: int64\n",
      "9548\n",
      "6665912\n",
      "7045740\n",
      "7045740\n",
      "7045740\n",
      "9548\n",
      "1     2717\n",
      "2     2489\n",
      "3     1714\n",
      "4      999\n",
      "5      554\n",
      "6      347\n",
      "0      239\n",
      "7      172\n",
      "8      136\n",
      "9       63\n",
      "10      54\n",
      "11      18\n",
      "12      16\n",
      "13       8\n",
      "15       6\n",
      "16       4\n",
      "14       3\n",
      "18       2\n",
      "17       2\n",
      "25       1\n",
      "20       1\n",
      "21       1\n",
      "24       1\n",
      "34       1\n",
      "Name: Number of Visits, dtype: int64\n",
      "0    1\n",
      "1    2\n",
      "2    2\n",
      "3    2\n",
      "4    6\n",
      "5    0\n",
      "6    5\n",
      "7    3\n",
      "Name: NumVst, dtype: int64\n"
     ]
    }
   ],
   "source": [
    "#Transform NumVst to have same number of rows with AnalyData\n",
    "ID = AnalyData[\"ID Number\"]\n",
    "cmpr = ID.isin(NumVst[\"ID Number\"])\n",
    "print(cmpr[cmpr==0].index)\n",
    "print(NumVst[NumVst[\"ID Number\"]==ID[552]])\n",
    "temp = NumVst\n",
    "print(\"Original size:\", temp.shape)\n",
    "l=[]\n",
    "for idx in list(cmpr[cmpr==0].index):\n",
    "    l.append([ID[idx],1])\n",
    "temp = temp.append(pd.DataFrame(l, columns=list(temp.columns)),ignore_index=True)\n",
    "print(\"Modified size:\", temp.shape)\n",
    "cmpr2 = temp[\"ID Number\"].isin(ID)\n",
    "print(\"Do not belong to ID:\",temp[\"ID Number\"][cmpr2[cmpr2==0].index])\n",
    "temp = temp.drop(cmpr2[cmpr2==0].index)\n",
    "temp = temp.sort_values(\"ID Number\")\n",
    "print(sum(temp[\"ID Number\"]==ID))\n",
    "\n",
    "#Reset index\n",
    "print(temp[\"ID Number\"][9537])\n",
    "print(AnalyData[\"ID Number\"][9537])\n",
    "temp2 = temp.reset_index(drop=True)\n",
    "print(temp2[\"ID Number\"][9537])\n",
    "print(AnalyData[\"ID Number\"][9537])\n",
    "print(sum(temp2[\"ID Number\"]==AnalyData[\"ID Number\"]))\n",
    "\n",
    "print(pd.value_counts(temp2[\"Number of Visits\"]))\n",
    "NumVst_mod = temp2[\"Number of Visits\"] #NumVst_mod is a predictor\n",
    "NumVst_mod.name = \"NumVst\"\n",
    "print(NumVst_mod.head(8))"
   ]
  },
  {
   "cell_type": "markdown",
   "metadata": {},
   "source": [
    "### Tranforming and Converting Commu"
   ]
  },
  {
   "cell_type": "code",
   "execution_count": 234,
   "metadata": {
    "collapsed": false
   },
   "outputs": [
    {
     "name": "stdout",
     "output_type": "stream",
     "text": [
      "ID Number                                      object\n",
      "Dinos Magazine in mail                          int64\n",
      "Space Magazine in mail                          int64\n",
      "Email notification about level price change     int64\n",
      "Mail notification about level price change      int64\n",
      "Eaddress acquisition postcard                   int64\n",
      "dtype: object\n",
      "[0 1]\n",
      "[1 0]\n",
      "[0 1]\n",
      "[0 1]\n",
      "[0 1]\n",
      "Dinos Magazine in mail                         1658\n",
      "Space Magazine in mail                         8540\n",
      "Email notification about level price change     359\n",
      "Mail notification about level price change       52\n",
      "Eaddress acquisition postcard                   561\n",
      "dtype: int64\n",
      "1    7345\n",
      "2    1457\n",
      "3     302\n",
      "5       1\n",
      "dtype: int64\n",
      "(9105, 6)\n"
     ]
    }
   ],
   "source": [
    "#An overview of Commu\n",
    "print(Commu.dtypes)\n",
    "for col in Commu.columns[1:]:\n",
    "    print(Commu[col].unique())\n",
    "print(Commu[Commu.columns[1:]].sum())\n",
    "print(pd.value_counts(Commu[Commu.columns[1:]].sum(axis=1)))\n",
    "print(Commu.shape)"
   ]
  },
  {
   "cell_type": "code",
   "execution_count": 235,
   "metadata": {
    "collapsed": false
   },
   "outputs": [
    {
     "name": "stdout",
     "output_type": "stream",
     "text": [
      "Int64Index([   0,   22,   30,   45,   54,   55,   59,   67,   68,   71,\n",
      "            ...\n",
      "            9479, 9486, 9488, 9493, 9497, 9498, 9501, 9505, 9508, 9523],\n",
      "           dtype='int64', length=445)\n",
      "Empty DataFrame\n",
      "Columns: [ID Number, Dinos Magazine in mail, Space Magazine in mail, Email notification about level price change, Mail notification about level price change, Eaddress acquisition postcard]\n",
      "Index: []\n",
      "Original size: (9105, 6)\n",
      "Modified size: (9550, 6)\n",
      "Do not belong to ID: 6992        6993112\n",
      "9104    Grand Total\n",
      "Name: ID Number, dtype: object\n",
      "9548\n",
      "7044224\n",
      "7045740\n",
      "7045740\n",
      "7045740\n",
      "9548\n",
      "1    7344\n",
      "2    1457\n",
      "0     445\n",
      "3     302\n",
      "dtype: int64\n",
      "   Dinos Magazine in mail  Space Magazine in mail  \\\n",
      "0                       0                       0   \n",
      "1                       0                       1   \n",
      "2                       0                       1   \n",
      "3                       1                       1   \n",
      "4                       1                       1   \n",
      "5                       0                       1   \n",
      "6                       0                       1   \n",
      "7                       0                       1   \n",
      "\n",
      "   Email notification about level price change  \\\n",
      "0                                            0   \n",
      "1                                            0   \n",
      "2                                            0   \n",
      "3                                            0   \n",
      "4                                            0   \n",
      "5                                            0   \n",
      "6                                            0   \n",
      "7                                            0   \n",
      "\n",
      "   Mail notification about level price change  Eaddress acquisition postcard  \n",
      "0                                           0                              0  \n",
      "1                                           0                              0  \n",
      "2                                           0                              0  \n",
      "3                                           0                              1  \n",
      "4                                           0                              0  \n",
      "5                                           0                              0  \n",
      "6                                           0                              0  \n",
      "7                                           0                              0  \n"
     ]
    }
   ],
   "source": [
    "#Transform Commu to have same number of rows with AnalyData\n",
    "ID = AnalyData[\"ID Number\"]\n",
    "cmpr = ID.isin(Commu[\"ID Number\"])\n",
    "print(cmpr[cmpr==0].index)\n",
    "print(Commu[Commu[\"ID Number\"]==ID[9479]])\n",
    "temp = Commu\n",
    "print(\"Original size:\", temp.shape)\n",
    "l=[]\n",
    "for idx in list(cmpr[cmpr==0].index):\n",
    "    l.append([ID[idx],0,0,0,0,0])\n",
    "temp = temp.append(pd.DataFrame(l, columns=list(temp.columns)),ignore_index=True)\n",
    "print(\"Modified size:\", temp.shape)\n",
    "cmpr2 = temp[\"ID Number\"].isin(ID)\n",
    "print(\"Do not belong to ID:\",temp[\"ID Number\"][cmpr2[cmpr2==0].index])\n",
    "temp = temp.drop(cmpr2[cmpr2==0].index)\n",
    "temp = temp.sort_values(\"ID Number\")\n",
    "print(sum(temp[\"ID Number\"]==ID))\n",
    "\n",
    "#Reset index\n",
    "print(temp[\"ID Number\"][9537])\n",
    "print(AnalyData[\"ID Number\"][9537])\n",
    "temp2 = temp.reset_index(drop=True)\n",
    "print(temp2[\"ID Number\"][9537])\n",
    "print(AnalyData[\"ID Number\"][9537])\n",
    "print(sum(temp2[\"ID Number\"]==AnalyData[\"ID Number\"]))\n",
    "\n",
    "print(pd.value_counts(temp2[temp2.columns[1:]].sum(axis=1)))\n",
    "Commu_mod = temp2[temp2.columns[1:]] #Commu_mod is a predictor\n",
    "print(Commu_mod.head(8))"
   ]
  },
  {
   "cell_type": "markdown",
   "metadata": {},
   "source": [
    "### Trasnforming and Coverting ZipCd with help of external dataset, ZC"
   ]
  },
  {
   "cell_type": "code",
   "execution_count": 250,
   "metadata": {
    "collapsed": false
   },
   "outputs": [
    {
     "name": "stdout",
     "output_type": "stream",
     "text": [
      "zip                  int64\n",
      "kmtoSMM            float64\n",
      "milesToSMM         float64\n",
      "hoursDriveToSMM    float64\n",
      "city                object\n",
      "state               object\n",
      "latitude           float64\n",
      "longitude          float64\n",
      "dtype: object\n",
      "                zip      kmtoSMM   milesToSMM  hoursDriveToSMM    latitude  \\\n",
      "count    951.000000   949.000000   949.000000       949.000000  951.000000   \n",
      "mean   57246.934805   712.388165   442.678006         6.629510   42.786851   \n",
      "std    14914.926774   913.032147   567.358176         8.228683    4.775439   \n",
      "min    10016.000000     1.844000     1.145862         0.076111   21.345200   \n",
      "25%    54660.500000   106.814000    66.374220         1.181944   41.683024   \n",
      "50%    55423.000000   283.069000   175.899077         2.814444   44.649263   \n",
      "75%    56551.500000   894.783000   556.018156         8.258333   45.384533   \n",
      "max    99780.000000  5092.755000  3164.637957        53.210556   63.341767   \n",
      "\n",
      "        longitude  \n",
      "count  951.000000  \n",
      "mean   -94.486320  \n",
      "std      9.307322  \n",
      "min   -157.881650  \n",
      "25%    -94.997725  \n",
      "50%    -93.283910  \n",
      "75%    -91.551945  \n",
      "max    -73.331140  \n",
      "kmtoSMM                                                       676056\n",
      "milesToSMM                                                    420101\n",
      "hoursDriveToSMM                                               6291.4\n",
      "city               New YorkNew YorkBronxvilleNew RochelleNorthpor...\n",
      "state              NYNYNYNYNYNYNYPAPAPAPAPAPAPAPAPAMDMDMDMDMDVAVA...\n",
      "latitude                                                     40690.3\n",
      "longitude                                                   -89856.5\n",
      "dtype: object\n",
      "(951, 8)\n",
      "2\n"
     ]
    }
   ],
   "source": [
    "#An overview of ZC\n",
    "print(ZC.dtypes)\n",
    "print(ZC.describe())\n",
    "print(ZC[ZC.columns[1:]].sum())\n",
    "#print(pd.value_counts(Commu[Commu.columns[1:]].sum(axis=1)))\n",
    "print(ZC.shape)\n",
    "print(sum(pd.isnull(ZC[\"kmtoSMM\"])))"
   ]
  },
  {
   "cell_type": "code",
   "execution_count": 280,
   "metadata": {
    "collapsed": false
   },
   "outputs": [
    {
     "name": "stdout",
     "output_type": "stream",
     "text": [
      "(960,)\n",
      "(9548, 2)\n",
      "9529\n",
      "(19,)\n",
      "      ID Number  Zip Code\n",
      "426     4838348     55544\n",
      "687     6841596     49704\n",
      "769     6843368     22421\n",
      "772     6843472      2602\n",
      "1092    6850700     65183\n",
      "1850    6868216       NaN\n",
      "2310    6881876       NaN\n",
      "2436    6883892     31105\n",
      "2817    6891460       NaN\n",
      "3103    6897464       NaN\n",
      "5593    6957648     57204\n",
      "5739    6960444       NaN\n",
      "6141    6968816       NaN\n",
      "6487    6976016       NaN\n",
      "6792    6981652       NaN\n",
      "7974    7009524       NaN\n",
      "8450    7021904       NaN\n",
      "8998    7035344     15812\n",
      "9073    7036804       NaN\n",
      "951\n",
      "(0,)\n"
     ]
    }
   ],
   "source": [
    "print(ZipCd[\"Zip Code\"].unique().shape)\n",
    "print(ZipCd.shape)\n",
    "cmp = ZipCd[\"Zip Code\"].isin(ZC[\"zip\"])\n",
    "print(sum(cmp))\n",
    "print(cmp[cmp==0].shape)\n",
    "print(ZipCd[cmp==0])\n",
    "cmp2 = ZC[\"zip\"].isin(ZipCd[\"Zip Code\"])\n",
    "print(sum(cmp2[cmp2==1]))\n",
    "print(cmp2[cmp2==0].shape)\n"
   ]
  },
  {
   "cell_type": "code",
   "execution_count": 284,
   "metadata": {
    "collapsed": false
   },
   "outputs": [
    {
     "name": "stdout",
     "output_type": "stream",
     "text": [
      "       zip  kmtoSMM  milesToSMM  hoursDriveToSMM         city state  \\\n",
      "466  55414   11.782    7.321335            0.185  Minneapolis    MN   \n",
      "\n",
      "      latitude  longitude  \n",
      "466  44.980379  -93.23003  \n",
      "       zip  kmtoSMM  milesToSMM  hoursDriveToSMM          city state  \\\n",
      "504  55604      NaN         261              NaN  Grand Marais    MN   \n",
      "931  96819      NaN        3968              NaN      Honolulu    HI   \n",
      "\n",
      "      latitude  longitude  \n",
      "504  47.939037  -90.54659  \n",
      "931  21.345200 -157.88165  \n",
      "Empty DataFrame\n",
      "Columns: [zip, kmtoSMM, milesToSMM, hoursDriveToSMM, city, state, latitude, longitude]\n",
      "Index: []\n",
      "      ID Number  Zip Code\n",
      "1891    6868876     96819\n",
      "8060    7012676     55604\n",
      "8823    7031160     55604\n"
     ]
    },
    {
     "name": "stderr",
     "output_type": "stream",
     "text": [
      "/Users/KaiweiAng/anaconda3/lib/python3.5/site-packages/ipykernel/__main__.py:4: SettingWithCopyWarning: \n",
      "A value is trying to be set on a copy of a slice from a DataFrame\n",
      "\n",
      "See the caveats in the documentation: http://pandas.pydata.org/pandas-docs/stable/indexing.html#indexing-view-versus-copy\n",
      "/Users/KaiweiAng/anaconda3/lib/python3.5/site-packages/ipykernel/__main__.py:5: SettingWithCopyWarning: \n",
      "A value is trying to be set on a copy of a slice from a DataFrame\n",
      "\n",
      "See the caveats in the documentation: http://pandas.pydata.org/pandas-docs/stable/indexing.html#indexing-view-versus-copy\n"
     ]
    }
   ],
   "source": [
    "print(ZC[ZC[\"zip\"]==55414])\n",
    "print(ZC[pd.isnull(ZC[\"kmtoSMM\"])])\n",
    "ZC_temp = ZC\n",
    "ZC_temp[\"milesToSMM\"][504] = 261\n",
    "ZC_temp[\"milesToSMM\"][931] = 3968\n",
    "print(ZC_temp[pd.isnull(ZC_temp[\"milesToSMM\"])])\n",
    "print(ZipCd[(ZipCd[\"Zip Code\"]==55604) | (ZipCd[\"Zip Code\"]==96819)])"
   ]
  },
  {
   "cell_type": "code",
   "execution_count": 343,
   "metadata": {
    "collapsed": false
   },
   "outputs": [
    {
     "name": "stdout",
     "output_type": "stream",
     "text": [
      "10016    1197.522932\n",
      "10024    1203.247269\n",
      "10708    1207.943188\n",
      "10801    1211.318633\n",
      "11768    1241.169446\n",
      "dtype: float64\n",
      "0\n",
      "ID Number    7012676\n",
      "Zip Code       55604\n",
      "Name: 8060, dtype: float64\n",
      "261.0\n",
      "261.0\n",
      "19\n",
      "count    9529.000000\n",
      "mean       72.009127\n",
      "std       227.150150\n",
      "min         1.145862\n",
      "25%        13.936759\n",
      "50%        21.290407\n",
      "75%        37.953869\n",
      "max      3968.000000\n",
      "Name: Zip Code, dtype: float64\n",
      "0\n"
     ]
    }
   ],
   "source": [
    "#mapping\n",
    "ZC2 = pd.Series(list(ZC[\"milesToSMM\"]), index=list(ZC[\"zip\"]))\n",
    "print(ZC2.head())\n",
    "print(sum(pd.isnull(ZC2)))\n",
    "distance = ZipCd[\"Zip Code\"].map(ZC2)\n",
    "print(ZipCd.loc[8060])\n",
    "print(ZC2[55604])\n",
    "print(distance[8060])\n",
    "print(sum(pd.isnull(distance)))\n",
    "print(distance.describe())\n",
    "distance[pd.isnull(distance)] = distance.mean()\n",
    "print(sum(pd.isnull(distance)))\n",
    "distance.name = \"Distance to SMM\""
   ]
  },
  {
   "cell_type": "markdown",
   "metadata": {},
   "source": [
    "### Combining all the features into a single DataFrame"
   ]
  },
  {
   "cell_type": "code",
   "execution_count": 394,
   "metadata": {
    "collapsed": false
   },
   "outputs": [
    {
     "name": "stdout",
     "output_type": "stream",
     "text": [
      "(9548, 23)\n"
     ]
    },
    {
     "data": {
      "text/html": [
       "<div>\n",
       "<table border=\"1\" class=\"dataframe\">\n",
       "  <thead>\n",
       "    <tr style=\"text-align: right;\">\n",
       "      <th></th>\n",
       "      <th>ID Number</th>\n",
       "      <th>Duration</th>\n",
       "      <th>Mbr1</th>\n",
       "      <th>Mbr2</th>\n",
       "      <th>Discount</th>\n",
       "      <th>PayMthd</th>\n",
       "      <th>SalesChannel</th>\n",
       "      <th>CSI</th>\n",
       "      <th>Offer on 1st Ren Notice</th>\n",
       "      <th>NoEmail</th>\n",
       "      <th>...</th>\n",
       "      <th>Demo1</th>\n",
       "      <th>Number of key people on record</th>\n",
       "      <th>NumVst</th>\n",
       "      <th>Dinos Magazine in mail</th>\n",
       "      <th>Space Magazine in mail</th>\n",
       "      <th>Email notification about level price change</th>\n",
       "      <th>Mail notification about level price change</th>\n",
       "      <th>Eaddress acquisition postcard</th>\n",
       "      <th>Distance to SMM</th>\n",
       "      <th>Renew</th>\n",
       "    </tr>\n",
       "  </thead>\n",
       "  <tbody>\n",
       "    <tr>\n",
       "      <th>0</th>\n",
       "      <td>236764</td>\n",
       "      <td>364</td>\n",
       "      <td>1</td>\n",
       "      <td>2</td>\n",
       "      <td>1</td>\n",
       "      <td>1</td>\n",
       "      <td>1</td>\n",
       "      <td>0</td>\n",
       "      <td>1</td>\n",
       "      <td>0</td>\n",
       "      <td>...</td>\n",
       "      <td>1</td>\n",
       "      <td>2</td>\n",
       "      <td>1</td>\n",
       "      <td>0</td>\n",
       "      <td>0</td>\n",
       "      <td>0</td>\n",
       "      <td>0</td>\n",
       "      <td>0</td>\n",
       "      <td>2.457016</td>\n",
       "      <td>1</td>\n",
       "    </tr>\n",
       "    <tr>\n",
       "      <th>1</th>\n",
       "      <td>298260</td>\n",
       "      <td>364</td>\n",
       "      <td>1</td>\n",
       "      <td>1</td>\n",
       "      <td>1</td>\n",
       "      <td>3</td>\n",
       "      <td>3</td>\n",
       "      <td>4</td>\n",
       "      <td>1</td>\n",
       "      <td>0</td>\n",
       "      <td>...</td>\n",
       "      <td>6</td>\n",
       "      <td>2</td>\n",
       "      <td>2</td>\n",
       "      <td>0</td>\n",
       "      <td>1</td>\n",
       "      <td>0</td>\n",
       "      <td>0</td>\n",
       "      <td>0</td>\n",
       "      <td>3.938433</td>\n",
       "      <td>0</td>\n",
       "    </tr>\n",
       "    <tr>\n",
       "      <th>2</th>\n",
       "      <td>300288</td>\n",
       "      <td>364</td>\n",
       "      <td>2</td>\n",
       "      <td>1</td>\n",
       "      <td>1</td>\n",
       "      <td>2</td>\n",
       "      <td>1</td>\n",
       "      <td>0</td>\n",
       "      <td>1</td>\n",
       "      <td>1</td>\n",
       "      <td>...</td>\n",
       "      <td>1</td>\n",
       "      <td>1</td>\n",
       "      <td>2</td>\n",
       "      <td>0</td>\n",
       "      <td>1</td>\n",
       "      <td>0</td>\n",
       "      <td>0</td>\n",
       "      <td>0</td>\n",
       "      <td>41.951957</td>\n",
       "      <td>0</td>\n",
       "    </tr>\n",
       "    <tr>\n",
       "      <th>3</th>\n",
       "      <td>300552</td>\n",
       "      <td>364</td>\n",
       "      <td>1</td>\n",
       "      <td>1</td>\n",
       "      <td>1</td>\n",
       "      <td>1</td>\n",
       "      <td>1</td>\n",
       "      <td>0</td>\n",
       "      <td>0</td>\n",
       "      <td>0</td>\n",
       "      <td>...</td>\n",
       "      <td>8</td>\n",
       "      <td>2</td>\n",
       "      <td>2</td>\n",
       "      <td>1</td>\n",
       "      <td>1</td>\n",
       "      <td>0</td>\n",
       "      <td>0</td>\n",
       "      <td>1</td>\n",
       "      <td>20.997106</td>\n",
       "      <td>1</td>\n",
       "    </tr>\n",
       "    <tr>\n",
       "      <th>4</th>\n",
       "      <td>311620</td>\n",
       "      <td>364</td>\n",
       "      <td>2</td>\n",
       "      <td>1</td>\n",
       "      <td>1</td>\n",
       "      <td>1</td>\n",
       "      <td>1</td>\n",
       "      <td>0</td>\n",
       "      <td>0</td>\n",
       "      <td>1</td>\n",
       "      <td>...</td>\n",
       "      <td>1</td>\n",
       "      <td>2</td>\n",
       "      <td>6</td>\n",
       "      <td>1</td>\n",
       "      <td>1</td>\n",
       "      <td>0</td>\n",
       "      <td>0</td>\n",
       "      <td>0</td>\n",
       "      <td>13.612388</td>\n",
       "      <td>0</td>\n",
       "    </tr>\n",
       "    <tr>\n",
       "      <th>5</th>\n",
       "      <td>314596</td>\n",
       "      <td>364</td>\n",
       "      <td>2</td>\n",
       "      <td>1</td>\n",
       "      <td>0</td>\n",
       "      <td>1</td>\n",
       "      <td>1</td>\n",
       "      <td>0</td>\n",
       "      <td>1</td>\n",
       "      <td>0</td>\n",
       "      <td>...</td>\n",
       "      <td>1</td>\n",
       "      <td>2</td>\n",
       "      <td>0</td>\n",
       "      <td>0</td>\n",
       "      <td>1</td>\n",
       "      <td>0</td>\n",
       "      <td>0</td>\n",
       "      <td>0</td>\n",
       "      <td>15.098156</td>\n",
       "      <td>0</td>\n",
       "    </tr>\n",
       "    <tr>\n",
       "      <th>6</th>\n",
       "      <td>318040</td>\n",
       "      <td>364</td>\n",
       "      <td>1</td>\n",
       "      <td>1</td>\n",
       "      <td>1</td>\n",
       "      <td>1</td>\n",
       "      <td>1</td>\n",
       "      <td>0</td>\n",
       "      <td>1</td>\n",
       "      <td>0</td>\n",
       "      <td>...</td>\n",
       "      <td>3</td>\n",
       "      <td>1</td>\n",
       "      <td>5</td>\n",
       "      <td>0</td>\n",
       "      <td>1</td>\n",
       "      <td>0</td>\n",
       "      <td>0</td>\n",
       "      <td>0</td>\n",
       "      <td>26.692858</td>\n",
       "      <td>0</td>\n",
       "    </tr>\n",
       "    <tr>\n",
       "      <th>7</th>\n",
       "      <td>319736</td>\n",
       "      <td>364</td>\n",
       "      <td>1</td>\n",
       "      <td>1</td>\n",
       "      <td>1</td>\n",
       "      <td>1</td>\n",
       "      <td>3</td>\n",
       "      <td>0</td>\n",
       "      <td>1</td>\n",
       "      <td>0</td>\n",
       "      <td>...</td>\n",
       "      <td>3</td>\n",
       "      <td>2</td>\n",
       "      <td>3</td>\n",
       "      <td>0</td>\n",
       "      <td>1</td>\n",
       "      <td>0</td>\n",
       "      <td>0</td>\n",
       "      <td>0</td>\n",
       "      <td>24.716185</td>\n",
       "      <td>0</td>\n",
       "    </tr>\n",
       "    <tr>\n",
       "      <th>8</th>\n",
       "      <td>329464</td>\n",
       "      <td>364</td>\n",
       "      <td>1</td>\n",
       "      <td>1</td>\n",
       "      <td>0</td>\n",
       "      <td>1</td>\n",
       "      <td>1</td>\n",
       "      <td>0</td>\n",
       "      <td>0</td>\n",
       "      <td>0</td>\n",
       "      <td>...</td>\n",
       "      <td>3</td>\n",
       "      <td>2</td>\n",
       "      <td>5</td>\n",
       "      <td>0</td>\n",
       "      <td>1</td>\n",
       "      <td>0</td>\n",
       "      <td>0</td>\n",
       "      <td>0</td>\n",
       "      <td>18.909202</td>\n",
       "      <td>0</td>\n",
       "    </tr>\n",
       "    <tr>\n",
       "      <th>9</th>\n",
       "      <td>331484</td>\n",
       "      <td>364</td>\n",
       "      <td>2</td>\n",
       "      <td>1</td>\n",
       "      <td>0</td>\n",
       "      <td>3</td>\n",
       "      <td>2</td>\n",
       "      <td>0</td>\n",
       "      <td>1</td>\n",
       "      <td>1</td>\n",
       "      <td>...</td>\n",
       "      <td>1</td>\n",
       "      <td>2</td>\n",
       "      <td>0</td>\n",
       "      <td>0</td>\n",
       "      <td>1</td>\n",
       "      <td>0</td>\n",
       "      <td>0</td>\n",
       "      <td>0</td>\n",
       "      <td>11.713390</td>\n",
       "      <td>NaN</td>\n",
       "    </tr>\n",
       "    <tr>\n",
       "      <th>10</th>\n",
       "      <td>340096</td>\n",
       "      <td>364</td>\n",
       "      <td>1</td>\n",
       "      <td>1</td>\n",
       "      <td>1</td>\n",
       "      <td>1</td>\n",
       "      <td>3</td>\n",
       "      <td>0</td>\n",
       "      <td>1</td>\n",
       "      <td>0</td>\n",
       "      <td>...</td>\n",
       "      <td>5</td>\n",
       "      <td>2</td>\n",
       "      <td>3</td>\n",
       "      <td>0</td>\n",
       "      <td>1</td>\n",
       "      <td>0</td>\n",
       "      <td>0</td>\n",
       "      <td>0</td>\n",
       "      <td>25.062926</td>\n",
       "      <td>0</td>\n",
       "    </tr>\n",
       "    <tr>\n",
       "      <th>11</th>\n",
       "      <td>342776</td>\n",
       "      <td>364</td>\n",
       "      <td>1</td>\n",
       "      <td>1</td>\n",
       "      <td>1</td>\n",
       "      <td>1</td>\n",
       "      <td>1</td>\n",
       "      <td>0</td>\n",
       "      <td>0</td>\n",
       "      <td>0</td>\n",
       "      <td>...</td>\n",
       "      <td>7</td>\n",
       "      <td>2</td>\n",
       "      <td>2</td>\n",
       "      <td>0</td>\n",
       "      <td>1</td>\n",
       "      <td>0</td>\n",
       "      <td>0</td>\n",
       "      <td>0</td>\n",
       "      <td>14.166056</td>\n",
       "      <td>0</td>\n",
       "    </tr>\n",
       "  </tbody>\n",
       "</table>\n",
       "<p>12 rows × 23 columns</p>\n",
       "</div>"
      ],
      "text/plain": [
       "    ID Number  Duration  Mbr1  Mbr2  Discount  PayMthd  SalesChannel  CSI  \\\n",
       "0      236764       364     1     2         1        1             1    0   \n",
       "1      298260       364     1     1         1        3             3    4   \n",
       "2      300288       364     2     1         1        2             1    0   \n",
       "3      300552       364     1     1         1        1             1    0   \n",
       "4      311620       364     2     1         1        1             1    0   \n",
       "5      314596       364     2     1         0        1             1    0   \n",
       "6      318040       364     1     1         1        1             1    0   \n",
       "7      319736       364     1     1         1        1             3    0   \n",
       "8      329464       364     1     1         0        1             1    0   \n",
       "9      331484       364     2     1         0        3             2    0   \n",
       "10     340096       364     1     1         1        1             3    0   \n",
       "11     342776       364     1     1         1        1             1    0   \n",
       "\n",
       "    Offer on 1st Ren Notice  NoEmail  ...    Demo1  \\\n",
       "0                         1        0  ...        1   \n",
       "1                         1        0  ...        6   \n",
       "2                         1        1  ...        1   \n",
       "3                         0        0  ...        8   \n",
       "4                         0        1  ...        1   \n",
       "5                         1        0  ...        1   \n",
       "6                         1        0  ...        3   \n",
       "7                         1        0  ...        3   \n",
       "8                         0        0  ...        3   \n",
       "9                         1        1  ...        1   \n",
       "10                        1        0  ...        5   \n",
       "11                        0        0  ...        7   \n",
       "\n",
       "    Number of key people on record  NumVst  Dinos Magazine in mail  \\\n",
       "0                                2       1                       0   \n",
       "1                                2       2                       0   \n",
       "2                                1       2                       0   \n",
       "3                                2       2                       1   \n",
       "4                                2       6                       1   \n",
       "5                                2       0                       0   \n",
       "6                                1       5                       0   \n",
       "7                                2       3                       0   \n",
       "8                                2       5                       0   \n",
       "9                                2       0                       0   \n",
       "10                               2       3                       0   \n",
       "11                               2       2                       0   \n",
       "\n",
       "    Space Magazine in mail  Email notification about level price change  \\\n",
       "0                        0                                            0   \n",
       "1                        1                                            0   \n",
       "2                        1                                            0   \n",
       "3                        1                                            0   \n",
       "4                        1                                            0   \n",
       "5                        1                                            0   \n",
       "6                        1                                            0   \n",
       "7                        1                                            0   \n",
       "8                        1                                            0   \n",
       "9                        1                                            0   \n",
       "10                       1                                            0   \n",
       "11                       1                                            0   \n",
       "\n",
       "    Mail notification about level price change  Eaddress acquisition postcard  \\\n",
       "0                                            0                              0   \n",
       "1                                            0                              0   \n",
       "2                                            0                              0   \n",
       "3                                            0                              1   \n",
       "4                                            0                              0   \n",
       "5                                            0                              0   \n",
       "6                                            0                              0   \n",
       "7                                            0                              0   \n",
       "8                                            0                              0   \n",
       "9                                            0                              0   \n",
       "10                                           0                              0   \n",
       "11                                           0                              0   \n",
       "\n",
       "    Distance to SMM  Renew  \n",
       "0          2.457016      1  \n",
       "1          3.938433      0  \n",
       "2         41.951957      0  \n",
       "3         20.997106      1  \n",
       "4         13.612388      0  \n",
       "5         15.098156      0  \n",
       "6         26.692858      0  \n",
       "7         24.716185      0  \n",
       "8         18.909202      0  \n",
       "9         11.713390    NaN  \n",
       "10        25.062926      0  \n",
       "11        14.166056      0  \n",
       "\n",
       "[12 rows x 23 columns]"
      ]
     },
     "execution_count": 394,
     "metadata": {},
     "output_type": "execute_result"
    }
   ],
   "source": [
    "comb = pd.concat([AnalyData[\"ID Number\"],AnalyData_mod,MbrLvl_mod,PayMthd_mod,SalesChannel_mod,CSI_mod,Offer1st_mod,\n",
    "                  EmlOpt_mod,Demo1_mod,KeyPpl_mod,NumVst_mod,Commu_mod,distance,renew],axis=1)\n",
    "#comb.columns = ['ID Number','PayMthd','SalesChannel','CSI','Offer1st'] + EmlOpt_mod.columns.values.tolist() \n",
    "print(comb.shape)\n",
    "comb.head(12)"
   ]
  },
  {
   "cell_type": "markdown",
   "metadata": {},
   "source": [
    "### Saving comb as a csv file"
   ]
  },
  {
   "cell_type": "code",
   "execution_count": 393,
   "metadata": {
    "collapsed": false
   },
   "outputs": [],
   "source": [
    "comb.to_csv(\"SMM.csv\", index=False)"
   ]
  }
 ],
 "metadata": {
  "kernelspec": {
   "display_name": "Python 3",
   "language": "python",
   "name": "python3"
  },
  "language_info": {
   "codemirror_mode": {
    "name": "ipython",
    "version": 3
   },
   "file_extension": ".py",
   "mimetype": "text/x-python",
   "name": "python",
   "nbconvert_exporter": "python",
   "pygments_lexer": "ipython3",
   "version": "3.5.1"
  }
 },
 "nbformat": 4,
 "nbformat_minor": 0
}
