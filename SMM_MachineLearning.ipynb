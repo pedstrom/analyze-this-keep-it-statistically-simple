{
 "cells": [
  {
   "cell_type": "markdown",
   "metadata": {},
   "source": [
    "### Created by Kaiwei Ang (Lance)"
   ]
  },
  {
   "cell_type": "code",
   "execution_count": 2,
   "metadata": {
    "collapsed": true
   },
   "outputs": [],
   "source": [
    "import pandas as pd\n",
    "import numpy as np"
   ]
  },
  {
   "cell_type": "code",
   "execution_count": 3,
   "metadata": {
    "collapsed": true
   },
   "outputs": [],
   "source": [
    "SMM = pd.read_csv(\"SMM.csv\")"
   ]
  },
  {
   "cell_type": "code",
   "execution_count": 4,
   "metadata": {
    "collapsed": false
   },
   "outputs": [
    {
     "data": {
      "text/html": [
       "<div>\n",
       "<table border=\"1\" class=\"dataframe\">\n",
       "  <thead>\n",
       "    <tr style=\"text-align: right;\">\n",
       "      <th></th>\n",
       "      <th>ID Number</th>\n",
       "      <th>Duration</th>\n",
       "      <th>Mbr1</th>\n",
       "      <th>Mbr2</th>\n",
       "      <th>Discount</th>\n",
       "      <th>PayMthd</th>\n",
       "      <th>SalesChannel</th>\n",
       "      <th>CSI</th>\n",
       "      <th>Offer on 1st Ren Notice</th>\n",
       "      <th>NoEmail</th>\n",
       "      <th>...</th>\n",
       "      <th>Demo1</th>\n",
       "      <th>Number of key people on record</th>\n",
       "      <th>NumVst</th>\n",
       "      <th>Dinos Magazine in mail</th>\n",
       "      <th>Space Magazine in mail</th>\n",
       "      <th>Email notification about level price change</th>\n",
       "      <th>Mail notification about level price change</th>\n",
       "      <th>Eaddress acquisition postcard</th>\n",
       "      <th>Distance to SMM</th>\n",
       "      <th>Renew</th>\n",
       "    </tr>\n",
       "  </thead>\n",
       "  <tbody>\n",
       "    <tr>\n",
       "      <th>count</th>\n",
       "      <td>9548.000000</td>\n",
       "      <td>9548.000000</td>\n",
       "      <td>9548.000000</td>\n",
       "      <td>9548.000000</td>\n",
       "      <td>9548.000000</td>\n",
       "      <td>9548.000000</td>\n",
       "      <td>9548.000000</td>\n",
       "      <td>9548.000000</td>\n",
       "      <td>9548.000000</td>\n",
       "      <td>9548.000000</td>\n",
       "      <td>...</td>\n",
       "      <td>9548.000000</td>\n",
       "      <td>9548.000000</td>\n",
       "      <td>9548.000000</td>\n",
       "      <td>9548.000000</td>\n",
       "      <td>9548.000000</td>\n",
       "      <td>9548.000000</td>\n",
       "      <td>9548.000000</td>\n",
       "      <td>9548.000000</td>\n",
       "      <td>9548.000000</td>\n",
       "      <td>8570.000000</td>\n",
       "    </tr>\n",
       "    <tr>\n",
       "      <th>mean</th>\n",
       "      <td>6785267.817344</td>\n",
       "      <td>364.505760</td>\n",
       "      <td>1.208944</td>\n",
       "      <td>1.080121</td>\n",
       "      <td>0.317868</td>\n",
       "      <td>2.121177</td>\n",
       "      <td>1.383745</td>\n",
       "      <td>0.389610</td>\n",
       "      <td>0.713553</td>\n",
       "      <td>0.153540</td>\n",
       "      <td>...</td>\n",
       "      <td>3.312107</td>\n",
       "      <td>1.756284</td>\n",
       "      <td>2.719732</td>\n",
       "      <td>0.173544</td>\n",
       "      <td>0.894219</td>\n",
       "      <td>0.037495</td>\n",
       "      <td>0.005341</td>\n",
       "      <td>0.058651</td>\n",
       "      <td>72.009127</td>\n",
       "      <td>0.116686</td>\n",
       "    </tr>\n",
       "    <tr>\n",
       "      <th>std</th>\n",
       "      <td>714477.091504</td>\n",
       "      <td>10.854218</td>\n",
       "      <td>0.406576</td>\n",
       "      <td>0.271495</td>\n",
       "      <td>0.465672</td>\n",
       "      <td>1.603873</td>\n",
       "      <td>0.669086</td>\n",
       "      <td>1.096795</td>\n",
       "      <td>0.452125</td>\n",
       "      <td>0.360526</td>\n",
       "      <td>...</td>\n",
       "      <td>1.771837</td>\n",
       "      <td>0.429346</td>\n",
       "      <td>2.063565</td>\n",
       "      <td>0.378737</td>\n",
       "      <td>0.307574</td>\n",
       "      <td>0.189981</td>\n",
       "      <td>0.072893</td>\n",
       "      <td>0.234983</td>\n",
       "      <td>226.924006</td>\n",
       "      <td>0.321065</td>\n",
       "    </tr>\n",
       "    <tr>\n",
       "      <th>min</th>\n",
       "      <td>236764.000000</td>\n",
       "      <td>364.000000</td>\n",
       "      <td>1.000000</td>\n",
       "      <td>1.000000</td>\n",
       "      <td>0.000000</td>\n",
       "      <td>1.000000</td>\n",
       "      <td>1.000000</td>\n",
       "      <td>0.000000</td>\n",
       "      <td>0.000000</td>\n",
       "      <td>0.000000</td>\n",
       "      <td>...</td>\n",
       "      <td>1.000000</td>\n",
       "      <td>1.000000</td>\n",
       "      <td>0.000000</td>\n",
       "      <td>0.000000</td>\n",
       "      <td>0.000000</td>\n",
       "      <td>0.000000</td>\n",
       "      <td>0.000000</td>\n",
       "      <td>0.000000</td>\n",
       "      <td>1.145862</td>\n",
       "      <td>0.000000</td>\n",
       "    </tr>\n",
       "    <tr>\n",
       "      <th>25%</th>\n",
       "      <td>6883117.000000</td>\n",
       "      <td>364.000000</td>\n",
       "      <td>1.000000</td>\n",
       "      <td>1.000000</td>\n",
       "      <td>0.000000</td>\n",
       "      <td>1.000000</td>\n",
       "      <td>1.000000</td>\n",
       "      <td>0.000000</td>\n",
       "      <td>0.000000</td>\n",
       "      <td>0.000000</td>\n",
       "      <td>...</td>\n",
       "      <td>2.000000</td>\n",
       "      <td>2.000000</td>\n",
       "      <td>1.000000</td>\n",
       "      <td>0.000000</td>\n",
       "      <td>1.000000</td>\n",
       "      <td>0.000000</td>\n",
       "      <td>0.000000</td>\n",
       "      <td>0.000000</td>\n",
       "      <td>13.936759</td>\n",
       "      <td>0.000000</td>\n",
       "    </tr>\n",
       "    <tr>\n",
       "      <th>50%</th>\n",
       "      <td>6937310.000000</td>\n",
       "      <td>364.000000</td>\n",
       "      <td>1.000000</td>\n",
       "      <td>1.000000</td>\n",
       "      <td>0.000000</td>\n",
       "      <td>1.000000</td>\n",
       "      <td>1.000000</td>\n",
       "      <td>0.000000</td>\n",
       "      <td>1.000000</td>\n",
       "      <td>0.000000</td>\n",
       "      <td>...</td>\n",
       "      <td>3.000000</td>\n",
       "      <td>2.000000</td>\n",
       "      <td>2.000000</td>\n",
       "      <td>0.000000</td>\n",
       "      <td>1.000000</td>\n",
       "      <td>0.000000</td>\n",
       "      <td>0.000000</td>\n",
       "      <td>0.000000</td>\n",
       "      <td>21.290407</td>\n",
       "      <td>0.000000</td>\n",
       "    </tr>\n",
       "    <tr>\n",
       "      <th>75%</th>\n",
       "      <td>6990212.000000</td>\n",
       "      <td>364.000000</td>\n",
       "      <td>1.000000</td>\n",
       "      <td>1.000000</td>\n",
       "      <td>1.000000</td>\n",
       "      <td>3.000000</td>\n",
       "      <td>2.000000</td>\n",
       "      <td>0.000000</td>\n",
       "      <td>1.000000</td>\n",
       "      <td>0.000000</td>\n",
       "      <td>...</td>\n",
       "      <td>4.000000</td>\n",
       "      <td>2.000000</td>\n",
       "      <td>4.000000</td>\n",
       "      <td>0.000000</td>\n",
       "      <td>1.000000</td>\n",
       "      <td>0.000000</td>\n",
       "      <td>0.000000</td>\n",
       "      <td>0.000000</td>\n",
       "      <td>37.953869</td>\n",
       "      <td>0.000000</td>\n",
       "    </tr>\n",
       "    <tr>\n",
       "      <th>max</th>\n",
       "      <td>7401876.000000</td>\n",
       "      <td>729.000000</td>\n",
       "      <td>2.000000</td>\n",
       "      <td>2.000000</td>\n",
       "      <td>1.000000</td>\n",
       "      <td>8.000000</td>\n",
       "      <td>4.000000</td>\n",
       "      <td>5.000000</td>\n",
       "      <td>1.000000</td>\n",
       "      <td>1.000000</td>\n",
       "      <td>...</td>\n",
       "      <td>12.000000</td>\n",
       "      <td>2.000000</td>\n",
       "      <td>34.000000</td>\n",
       "      <td>1.000000</td>\n",
       "      <td>1.000000</td>\n",
       "      <td>1.000000</td>\n",
       "      <td>1.000000</td>\n",
       "      <td>1.000000</td>\n",
       "      <td>3968.000000</td>\n",
       "      <td>1.000000</td>\n",
       "    </tr>\n",
       "  </tbody>\n",
       "</table>\n",
       "<p>8 rows × 23 columns</p>\n",
       "</div>"
      ],
      "text/plain": [
       "            ID Number     Duration         Mbr1         Mbr2     Discount  \\\n",
       "count     9548.000000  9548.000000  9548.000000  9548.000000  9548.000000   \n",
       "mean   6785267.817344   364.505760     1.208944     1.080121     0.317868   \n",
       "std     714477.091504    10.854218     0.406576     0.271495     0.465672   \n",
       "min     236764.000000   364.000000     1.000000     1.000000     0.000000   \n",
       "25%    6883117.000000   364.000000     1.000000     1.000000     0.000000   \n",
       "50%    6937310.000000   364.000000     1.000000     1.000000     0.000000   \n",
       "75%    6990212.000000   364.000000     1.000000     1.000000     1.000000   \n",
       "max    7401876.000000   729.000000     2.000000     2.000000     1.000000   \n",
       "\n",
       "           PayMthd  SalesChannel          CSI  Offer on 1st Ren Notice  \\\n",
       "count  9548.000000   9548.000000  9548.000000              9548.000000   \n",
       "mean      2.121177      1.383745     0.389610                 0.713553   \n",
       "std       1.603873      0.669086     1.096795                 0.452125   \n",
       "min       1.000000      1.000000     0.000000                 0.000000   \n",
       "25%       1.000000      1.000000     0.000000                 0.000000   \n",
       "50%       1.000000      1.000000     0.000000                 1.000000   \n",
       "75%       3.000000      2.000000     0.000000                 1.000000   \n",
       "max       8.000000      4.000000     5.000000                 1.000000   \n",
       "\n",
       "           NoEmail     ...             Demo1  Number of key people on record  \\\n",
       "count  9548.000000     ...       9548.000000                     9548.000000   \n",
       "mean      0.153540     ...          3.312107                        1.756284   \n",
       "std       0.360526     ...          1.771837                        0.429346   \n",
       "min       0.000000     ...          1.000000                        1.000000   \n",
       "25%       0.000000     ...          2.000000                        2.000000   \n",
       "50%       0.000000     ...          3.000000                        2.000000   \n",
       "75%       0.000000     ...          4.000000                        2.000000   \n",
       "max       1.000000     ...         12.000000                        2.000000   \n",
       "\n",
       "            NumVst  Dinos Magazine in mail  Space Magazine in mail  \\\n",
       "count  9548.000000             9548.000000             9548.000000   \n",
       "mean      2.719732                0.173544                0.894219   \n",
       "std       2.063565                0.378737                0.307574   \n",
       "min       0.000000                0.000000                0.000000   \n",
       "25%       1.000000                0.000000                1.000000   \n",
       "50%       2.000000                0.000000                1.000000   \n",
       "75%       4.000000                0.000000                1.000000   \n",
       "max      34.000000                1.000000                1.000000   \n",
       "\n",
       "       Email notification about level price change  \\\n",
       "count                                  9548.000000   \n",
       "mean                                      0.037495   \n",
       "std                                       0.189981   \n",
       "min                                       0.000000   \n",
       "25%                                       0.000000   \n",
       "50%                                       0.000000   \n",
       "75%                                       0.000000   \n",
       "max                                       1.000000   \n",
       "\n",
       "       Mail notification about level price change  \\\n",
       "count                                 9548.000000   \n",
       "mean                                     0.005341   \n",
       "std                                      0.072893   \n",
       "min                                      0.000000   \n",
       "25%                                      0.000000   \n",
       "50%                                      0.000000   \n",
       "75%                                      0.000000   \n",
       "max                                      1.000000   \n",
       "\n",
       "       Eaddress acquisition postcard  Distance to SMM        Renew  \n",
       "count                    9548.000000      9548.000000  8570.000000  \n",
       "mean                        0.058651        72.009127     0.116686  \n",
       "std                         0.234983       226.924006     0.321065  \n",
       "min                         0.000000         1.145862     0.000000  \n",
       "25%                         0.000000        13.936759     0.000000  \n",
       "50%                         0.000000        21.290407     0.000000  \n",
       "75%                         0.000000        37.953869     0.000000  \n",
       "max                         1.000000      3968.000000     1.000000  \n",
       "\n",
       "[8 rows x 23 columns]"
      ]
     },
     "execution_count": 4,
     "metadata": {},
     "output_type": "execute_result"
    }
   ],
   "source": [
    "SMM.describe()"
   ]
  },
  {
   "cell_type": "code",
   "execution_count": 5,
   "metadata": {
    "collapsed": false
   },
   "outputs": [
    {
     "name": "stdout",
     "output_type": "stream",
     "text": [
      "(8570,)\n",
      "(8570, 21)\n",
      "(978, 21)\n",
      "(8570,)\n"
     ]
    }
   ],
   "source": [
    "#Constructing Train and Test set\n",
    "cmpr = pd.isnull(SMM[\"Renew\"])\n",
    "print(cmpr[cmpr==0].shape)\n",
    "TrainSMM = SMM[cmpr==0][SMM.columns[1:-1]]\n",
    "TestSMM = SMM[cmpr==1][SMM.columns[1:-1]]\n",
    "train_label = SMM[cmpr==0][\"Renew\"]\n",
    "print(TrainSMM.shape)\n",
    "print(TestSMM.shape)\n",
    "print(train_label.shape)"
   ]
  },
  {
   "cell_type": "markdown",
   "metadata": {},
   "source": [
    "##### Something to keep in mind is, getting high accuracy from classifiers doesn't mean much here, it's likely to be a poor model since we have very little positive samples if comapred to negative samples. That is, even I now predict every single member will not renew (negative), I'll still get very high accuracy, which is ~88.3%. Hence, in order to determine how a model performs, we need to know its recall rate, precision, as well as F1 score. "
   ]
  },
  {
   "cell_type": "markdown",
   "metadata": {},
   "source": [
    "### First Attempt: Direct Use of Random Forest classifier"
   ]
  },
  {
   "cell_type": "code",
   "execution_count": 6,
   "metadata": {
    "collapsed": false
   },
   "outputs": [
    {
     "name": "stdout",
     "output_type": "stream",
     "text": [
      "[ 0.88313506  0.88340336  0.88340336]\n",
      "Accuracy: 0.88331392739\n"
     ]
    }
   ],
   "source": [
    "from sklearn import cross_validation\n",
    "from sklearn.ensemble import RandomForestClassifier\n",
    "\n",
    "alg = RandomForestClassifier(random_state=1, n_estimators=150, min_samples_split=4, min_samples_leaf=2)\n",
    "scores = cross_validation.cross_val_score(alg, TrainSMM, train_label, cv=3)\n",
    "print(scores)\n",
    "print(\"Accuracy:\",scores.mean())"
   ]
  },
  {
   "cell_type": "markdown",
   "metadata": {},
   "source": [
    "The accuracy looks great but it could be a bad model, thus we need to know the recall rate and others. Too bad, cross_validation.cross_val_score doesn't tell us about them."
   ]
  },
  {
   "cell_type": "markdown",
   "metadata": {},
   "source": [
    "### Second Attempt Part 1: Random Forest Classifier (Longer way but more informative)"
   ]
  },
  {
   "cell_type": "code",
   "execution_count": 103,
   "metadata": {
    "collapsed": false
   },
   "outputs": [
    {
     "name": "stdout",
     "output_type": "stream",
     "text": [
      "(5713, 21) (5713,) [ 0.  1.]\n",
      "2857 8569\n",
      "0 2856\n",
      "(5713, 21) (5713,) [ 1.  0.]\n",
      "0 8569\n",
      "2857 5713\n",
      "(5714, 21) (5714,) [ 1.  0.]\n",
      "0 5713\n",
      "5714 8569\n"
     ]
    }
   ],
   "source": [
    "from sklearn.cross_validation import KFold\n",
    "\n",
    "alg = RandomForestClassifier(random_state=1, n_estimators=150, min_samples_split=4, min_samples_leaf=2)\n",
    "kf = KFold(TrainSMM.shape[0], n_folds=3, random_state=1)\n",
    "\n",
    "Train_temp = TrainSMM.reset_index(drop=True)\n",
    "train_label_temp = train_label.reset_index(drop=True)\n",
    "predictions = []\n",
    "for train, test in kf:\n",
    "    train_set = Train_temp.loc[train]\n",
    "    labels = train_label_temp.loc[train]\n",
    "    print(train_set.shape, labels.shape, labels.unique())\n",
    "    alg.fit(train_set,labels)\n",
    "    test_pred = alg.predict(Train_temp.loc[test])\n",
    "    predictions.append(test_pred)\n",
    "    print(labels.index.min(),labels.index.max())\n",
    "    test_lab = train_label_temp.loc[test]\n",
    "    print(test_lab.index.min(),test_lab.index.max())"
   ]
  },
  {
   "cell_type": "code",
   "execution_count": 104,
   "metadata": {
    "collapsed": false
   },
   "outputs": [
    {
     "name": "stdout",
     "output_type": "stream",
     "text": [
      "Accuracy: 0.883080513419\n"
     ]
    }
   ],
   "source": [
    "predictions = np.concatenate(predictions, axis=0)\n",
    "acc = sum(predictions == train_label)/len(train_label)\n",
    "print(\"Accuracy:\",acc)"
   ]
  },
  {
   "cell_type": "code",
   "execution_count": 105,
   "metadata": {
    "collapsed": false
   },
   "outputs": [
    {
     "name": "stdout",
     "output_type": "stream",
     "text": [
      "8561 8569\n",
      "(1000,) (1000,)\n",
      "(7570,) (7570,)\n",
      "TP rate: 0.003\n",
      "TN rate: 0.999339498018\n",
      "Precision: 0.375\n"
     ]
    }
   ],
   "source": [
    "#splitting up positive and negative set to compute recall rate.\n",
    "pos_set = train_label_temp[train_label_temp==1]\n",
    "neg_set = train_label_temp[train_label_temp==0]\n",
    "print(pos_set.index.max(),neg_set.index.max())\n",
    "\n",
    "pos_pred = predictions[pos_set.index]\n",
    "neg_pred = predictions[neg_set.index]\n",
    "print(pos_set.shape, pos_pred.shape)\n",
    "print(neg_set.shape, neg_pred.shape)\n",
    "\n",
    "TP = sum(pos_pred == pos_set)/len(pos_set)\n",
    "TN = sum(neg_pred == neg_set)/len(neg_set)\n",
    "Prec = sum(pos_pred == pos_set)/(sum(pos_pred == pos_set)+sum(neg_pred != neg_set))\n",
    "print(\"TP rate:\",TP)\n",
    "print(\"TN rate:\",TN)\n",
    "print(\"Precision:\",Prec)"
   ]
  },
  {
   "cell_type": "markdown",
   "metadata": {},
   "source": [
    "As expected, the recall/true positive rate is very poor. The model literally predicted almost all the members will not renew. That's also why the accuracy is high but misleading."
   ]
  },
  {
   "cell_type": "markdown",
   "metadata": {},
   "source": [
    "### Instead of Cross Validation, Here's Another Approach, Randomly Select n Samples For Training"
   ]
  },
  {
   "cell_type": "code",
   "execution_count": 127,
   "metadata": {
    "collapsed": false
   },
   "outputs": [
    {
     "name": "stdout",
     "output_type": "stream",
     "text": [
      "(1000, 21)\n",
      "(7570, 21)\n",
      "800\n",
      "800\n",
      "200\n",
      "6770\n",
      "1600 6970\n"
     ]
    }
   ],
   "source": [
    "import random\n",
    "\n",
    "pos = Train_temp[train_label_temp==1]\n",
    "neg = Train_temp[train_label_temp==0]\n",
    "print(pos.shape)\n",
    "print(neg.shape)\n",
    "\n",
    "train_pos_idx = random.sample(list(pos.index),800)\n",
    "train_neg_idx = random.sample(list(neg.index),800)\n",
    "print(len(train_pos_idx))\n",
    "print(len(train_neg_idx))\n",
    "\n",
    "test_pos_idx = list(set(list(pos.index)) - set(train_pos_idx))\n",
    "test_neg_idx = list(set(list(neg.index)) - set(train_neg_idx))\n",
    "print(len(test_pos_idx))\n",
    "print(len(test_neg_idx))\n",
    "\n",
    "train_idx = train_pos_idx + train_neg_idx\n",
    "test_idx = test_pos_idx + test_neg_idx\n",
    "print(len(train_idx), len(test_idx))"
   ]
  },
  {
   "cell_type": "code",
   "execution_count": 128,
   "metadata": {
    "collapsed": false
   },
   "outputs": [
    {
     "name": "stdout",
     "output_type": "stream",
     "text": [
      "(6970,)\n",
      "[ 0.  1.]\n",
      "Accuracy: 0.617360114778\n"
     ]
    }
   ],
   "source": [
    "alg = RandomForestClassifier(random_state=1, n_estimators=150, min_samples_split=4, min_samples_leaf=2)\n",
    "alg.fit(Train_temp.loc[train_idx], train_label_temp.loc[train_idx])\n",
    "predictions = alg.predict(Train_temp.loc[test_idx])\n",
    "print(predictions.shape)\n",
    "print(np.unique(predictions))\n",
    "\n",
    "cmpr = predictions == train_label_temp.loc[test_idx]\n",
    "print(\"Accuracy:\",sum(cmpr)/len(predictions))"
   ]
  },
  {
   "cell_type": "code",
   "execution_count": 129,
   "metadata": {
    "collapsed": false
   },
   "outputs": [
    {
     "name": "stdout",
     "output_type": "stream",
     "text": [
      "(6970,) (200,) (6770,)\n",
      "6970\n",
      "(7570,) (6770,)\n",
      "TP rate: 0.58\n",
      "TN rate: 0.618463810931\n",
      "Precision: 0.0429788810671\n",
      "F1 score: 0.0800275957227\n",
      "Confusion matrix:\n",
      "[[ 116   84]\n",
      " [2583 4187]]\n"
     ]
    }
   ],
   "source": [
    "train_label_test = train_label_temp.loc[test_idx]\n",
    "pos_label = train_label_test[train_label_test==1]\n",
    "neg_label = train_label_test[train_label_test==0]\n",
    "\n",
    "print(train_label_test.shape, pos_label.shape, neg_label.shape)\n",
    "print(sum(train_label_test.index == test_idx))\n",
    "\n",
    "pred_df = pd.Series(predictions, index=train_label_test.index) #convert numpy array to pandas series \n",
    "pos_pred = pred_df[pos_label.index]\n",
    "neg_pred = pred_df[neg_label.index]\n",
    "print(neg_set.shape, neg_pred.shape)\n",
    "\n",
    "TP = sum(pos_pred == pos_label)/pos_label.shape[0]\n",
    "TN = sum(neg_pred == neg_label)/neg_label.shape[0]\n",
    "Prec = sum(pos_pred == pos_label)/(sum(pos_pred == pos_label)+sum(neg_pred != neg_label))\n",
    "FM = 2*Prec*TP/(Prec+TP)\n",
    "CM = np.matrix([[sum(pos_pred == pos_label), sum(pos_pred != pos_label)], \n",
    "               [sum(neg_pred != neg_label), sum(neg_pred == neg_label)]])\n",
    "\n",
    "print(\"TP rate:\",TP)\n",
    "print(\"TN rate:\", TN)\n",
    "print(\"Precision:\", Prec)\n",
    "print(\"F1 score:\", FM)\n",
    "print(\"Confusion matrix:\")\n",
    "print(CM)"
   ]
  },
  {
   "cell_type": "markdown",
   "metadata": {},
   "source": [
    "#### It seems like the rates vary with the number training samples. Hence, I make the previous codes into a function and run it multiple times with different number of training samples. The results are visualized. "
   ]
  },
  {
   "cell_type": "code",
   "execution_count": 215,
   "metadata": {
    "collapsed": true
   },
   "outputs": [],
   "source": [
    "# n = number of training sample from pos and neg set\n",
    "# algorithm = type of classifier \n",
    "def Classify(n,algorithm): \n",
    "    pos = Train_temp[train_label_temp==1]\n",
    "    neg = Train_temp[train_label_temp==0]\n",
    "    train_pos_idx = random.sample(list(pos.index),n)\n",
    "    #train_neg_idx = random.sample(list(neg.index),int(n/len(pos)*len(neg)))\n",
    "    train_neg_idx = random.sample(list(neg.index),n)\n",
    "    test_pos_idx = list(set(list(pos.index)) - set(train_pos_idx))\n",
    "    test_neg_idx = list(set(list(neg.index)) - set(train_neg_idx))\n",
    "    train_idx = train_pos_idx + train_neg_idx\n",
    "    test_idx = test_pos_idx + test_neg_idx\n",
    "\n",
    "    alg = algorithm\n",
    "    alg.fit(Train_temp.loc[train_idx], train_label_temp.loc[train_idx])\n",
    "    predictions = alg.predict(Train_temp.loc[test_idx])\n",
    "    cmpr = predictions == train_label_temp.loc[test_idx]\n",
    "    acc = sum(cmpr)/len(predictions)\n",
    "\n",
    "    train_label_test = train_label_temp.loc[test_idx]\n",
    "    pos_label = train_label_test[train_label_test==1]\n",
    "    neg_label = train_label_test[train_label_test==0]\n",
    "\n",
    "    pred_df = pd.Series(predictions, index=train_label_test.index) #convert numpy array to pandas series \n",
    "    pos_pred = pred_df[pos_label.index]\n",
    "    neg_pred = pred_df[neg_label.index]\n",
    "\n",
    "    TP = sum(pos_pred == pos_label)/pos_label.shape[0]\n",
    "    TN = sum(neg_pred == neg_label)/neg_label.shape[0]\n",
    "    Prec = sum(pos_pred == pos_label)/(sum(pos_pred == pos_label)+sum(neg_pred != neg_label))\n",
    "    FM = 2*Prec*TP/(Prec+TP)\n",
    "    CM = np.matrix([[sum(pos_pred == pos_label), sum(pos_pred != pos_label)], \n",
    "                   [sum(neg_pred != neg_label), sum(neg_pred == neg_label)]])\n",
    "    \n",
    "    return TP,TN,Prec,FM,acc"
   ]
  },
  {
   "cell_type": "code",
   "execution_count": 216,
   "metadata": {
    "collapsed": false
   },
   "outputs": [],
   "source": [
    "#running the function multiple times \n",
    "TP_list = []\n",
    "TN_list = []  \n",
    "Prec_list = []\n",
    "FM_list = []\n",
    "acc_list = []\n",
    "n_list = list(range(100,1000,100))\n",
    "for n in n_list:\n",
    "    TP,TN,Prec,FM,acc = Classify(n,\n",
    "                        RandomForestClassifier(random_state=1, n_estimators=150, min_samples_split=4, min_samples_leaf=2))\n",
    "    TP_list.append(TP)\n",
    "    TN_list.append(TN)\n",
    "    Prec_list.append(Prec)\n",
    "    FM_list.append(FM)\n",
    "    acc_list.append(acc)"
   ]
  },
  {
   "cell_type": "code",
   "execution_count": 217,
   "metadata": {
    "collapsed": false
   },
   "outputs": [
    {
     "data": {
      "image/png": "[encoded data removed]",
      "text/plain": [
       "<matplotlib.figure.Figure at 0x10f22e8d0>"
      ]
     },
     "metadata": {},
     "output_type": "display_data"
    },
    {
     "data": {
      "image/png": "[encoded data removed]",
      "text/plain": [
       "<matplotlib.figure.Figure at 0x10efd6c50>"
      ]
     },
     "metadata": {},
     "output_type": "display_data"
    },
    {
     "data": {
      "image/png": "[encoded data removed]",
      "text/plain": [
       "<matplotlib.figure.Figure at 0x10c7c45c0>"
      ]
     },
     "metadata": {},
     "output_type": "display_data"
    },
    {
     "data": {
      "image/png": "[encoded data removed]",
      "text/plain": [
       "<matplotlib.figure.Figure at 0x10bcd0cf8>"
      ]
     },
     "metadata": {},
     "output_type": "display_data"
    },
    {
     "data": {
      "image/png": "[encoded data removed]",
      "text/plain": [
       "<matplotlib.figure.Figure at 0x10ef800b8>"
      ]
     },
     "metadata": {},
     "output_type": "display_data"
    }
   ],
   "source": [
    "#Visualizations \n",
    "plt.plot(n_list,TP_list)\n",
    "plt.xlabel('number of training sample from pos and neg set')\n",
    "plt.ylabel('TP rate')\n",
    "plt.show()\n",
    "plt.plot(n_list,TN_list)\n",
    "plt.xlabel('number of training sample from pos and neg set')\n",
    "plt.ylabel('TN rate')\n",
    "plt.show()\n",
    "plt.plot(n_list,Prec_list)\n",
    "plt.xlabel('number of training sample from pos and neg set')\n",
    "plt.ylabel('Precision')\n",
    "plt.show()\n",
    "plt.plot(n_list,FM_list)\n",
    "plt.xlabel('number of training sample from pos and neg set')\n",
    "plt.ylabel('F1 score')\n",
    "plt.show()\n",
    "plt.plot(n_list,acc_list)\n",
    "plt.xlabel('number of training sample from pos and neg set')\n",
    "plt.ylabel('Accuracy')\n",
    "plt.show()"
   ]
  },
  {
   "cell_type": "markdown",
   "metadata": {},
   "source": [
    "### Check the distribution of positive and negative set"
   ]
  },
  {
   "cell_type": "code",
   "execution_count": 70,
   "metadata": {
    "collapsed": false
   },
   "outputs": [
    {
     "data": {
      "image/png": "[encoded data removed]",
      "text/plain": [
       "<matplotlib.figure.Figure at 0x10ec33208>"
      ]
     },
     "metadata": {},
     "output_type": "display_data"
    }
   ],
   "source": [
    "import matplotlib.pyplot as plt\n",
    "%matplotlib inline \n",
    "\n",
    "plt.boxplot([pos_label.index, neg_label.index])\n",
    "plt.show()"
   ]
  },
  {
   "cell_type": "code",
   "execution_count": 99,
   "metadata": {
    "collapsed": false
   },
   "outputs": [
    {
     "name": "stdout",
     "output_type": "stream",
     "text": [
      "2857 8569\n",
      "0 2856\n",
      "630 5083\n",
      "370 2487\n",
      "\n",
      "\n",
      "0 8569\n",
      "2857 5713\n",
      "754 4959\n",
      "246 2611\n",
      "\n",
      "\n",
      "0 5713\n",
      "5714 8569\n",
      "616 5098\n",
      "384 2472\n",
      "\n",
      "\n"
     ]
    }
   ],
   "source": [
    "kf = KFold(TrainSMM.shape[0], n_folds=3, random_state=1)\n",
    "for train, test in kf:\n",
    "    tr = train_label_temp.loc[train]\n",
    "    te = train_label_temp.loc[test]\n",
    "    print(train.min(), train.max())\n",
    "    print(test.min(), test.max())\n",
    "    print(sum(tr == 1),sum(tr == 0))\n",
    "    print(sum(te == 1),sum(te == 0))\n",
    "    print(\"\\n\")"
   ]
  },
  {
   "cell_type": "markdown",
   "metadata": {},
   "source": [
    "It seems like the distribution of positive and negative set are quite even. "
   ]
  },
  {
   "cell_type": "markdown",
   "metadata": {},
   "source": [
    "### Third Attempt: Logistic Regression"
   ]
  },
  {
   "cell_type": "code",
   "execution_count": 218,
   "metadata": {
    "collapsed": false
   },
   "outputs": [
    {
     "name": "stdout",
     "output_type": "stream",
     "text": [
      "0.583333333333 0.642066957787 0.0664388762339 0.119291070211 0.639609483961\n",
      "[[ 163  137]\n",
      " [2159 4711]]\n"
     ]
    }
   ],
   "source": [
    "from sklearn.linear_model import LogisticRegression\n",
    "\n",
    "TP,TN,Prec,FM,acc = Classify(700,LogisticRegression())\n",
    "\n",
    "print(TP,TN,Prec,FM,acc)\n",
    "print(CM)"
   ]
  },
  {
   "cell_type": "code",
   "execution_count": 219,
   "metadata": {
    "collapsed": false
   },
   "outputs": [
    {
     "name": "stdout",
     "output_type": "stream",
     "text": [
      "[ 0.88208537  0.88235294  0.8837535 ]\n",
      "0.882730605655\n"
     ]
    }
   ],
   "source": [
    "alg = LogisticRegression()\n",
    "scores = cross_validation.cross_val_score(alg, TrainSMM, train_label, cv=3)\n",
    "print(scores)\n",
    "print(scores.mean())"
   ]
  },
  {
   "cell_type": "markdown",
   "metadata": {},
   "source": [
    "### Finding The Best Features"
   ]
  },
  {
   "cell_type": "code",
   "execution_count": 192,
   "metadata": {
    "collapsed": false
   },
   "outputs": [
    {
     "data": {
      "image/png": "[encoded data removed]",
      "text/plain": [
       "<matplotlib.figure.Figure at 0x10ec1f7b8>"
      ]
     },
     "metadata": {},
     "output_type": "display_data"
    }
   ],
   "source": [
    "from sklearn.feature_selection import SelectKBest, f_classif\n",
    "import matplotlib.pyplot as plt\n",
    "%matplotlib inline \n",
    "\n",
    "# Perform feature selection\n",
    "selector = SelectKBest(f_classif, k=5)\n",
    "selector.fit(TrainSMM, train_label)\n",
    "\n",
    "# Get the raw p-values for each feature, and transform from p-values into scores\n",
    "scores = -np.log10(selector.pvalues_)\n",
    "\n",
    "# Plot the scores.  See how \"Pclass\", \"Sex\", \"Title\", and \"Fare\" are the best?\n",
    "plt.barh(range(len(TrainSMM.columns.values)), scores)\n",
    "plt.yticks(range(len(TrainSMM.columns.values)), TrainSMM.columns.values, rotation='horizontal')\n",
    "plt.show()"
   ]
  },
  {
   "cell_type": "code",
   "execution_count": 194,
   "metadata": {
    "collapsed": false
   },
   "outputs": [
    {
     "name": "stdout",
     "output_type": "stream",
     "text": [
      "[ 0.87718684  0.87710084  0.86729692]\n",
      "Accuracy: 0.87386153435\n"
     ]
    }
   ],
   "source": [
    "#Select the six best features\n",
    "predictors = [\"NumVst\",\"SMMNewsEmail\",\"NoEmail\",\"Distance to SMM\",\"CSI\",\"WarnerNatCtNewsEmail\"]\n",
    "\n",
    "alg = RandomForestClassifier(random_state=1, n_estimators=150, min_samples_split=4, min_samples_leaf=2)\n",
    "scores = cross_validation.cross_val_score(alg, TrainSMM[predictors], train_label, cv=3)\n",
    "print(scores)\n",
    "print(\"Accuracy:\",scores.mean())"
   ]
  },
  {
   "cell_type": "markdown",
   "metadata": {},
   "source": [
    "### Use the six best features only"
   ]
  },
  {
   "cell_type": "code",
   "execution_count": 201,
   "metadata": {
    "collapsed": false
   },
   "outputs": [
    {
     "name": "stdout",
     "output_type": "stream",
     "text": [
      "0.543333333333 0.685735080058 0.0701981050818 0.124332570557 0.679776847978\n",
      "[[ 163  137]\n",
      " [2159 4711]]\n"
     ]
    }
   ],
   "source": [
    "pos = Train_temp[train_label_temp==1]\n",
    "neg = Train_temp[train_label_temp==0]\n",
    "n=700\n",
    "train_pos_idx = random.sample(list(pos.index),n)\n",
    "#train_neg_idx = random.sample(list(neg.index),int(n/len(pos)*len(neg)))\n",
    "train_neg_idx = random.sample(list(neg.index),n)\n",
    "test_pos_idx = list(set(list(pos.index)) - set(train_pos_idx))\n",
    "test_neg_idx = list(set(list(neg.index)) - set(train_neg_idx))\n",
    "train_idx = train_pos_idx + train_neg_idx\n",
    "test_idx = test_pos_idx + test_neg_idx\n",
    "\n",
    "#alg = RandomForestClassifier(random_state=1, n_estimators=150, min_samples_split=4, min_samples_leaf=2)\n",
    "alg = LogisticRegression()\n",
    "alg.fit(Train_temp[predictors].loc[train_idx], train_label_temp.loc[train_idx])\n",
    "predictions = alg.predict(Train_temp[predictors].loc[test_idx])\n",
    "cmpr = predictions == train_label_temp.loc[test_idx]\n",
    "acc =  sum(cmpr)/len(predictions)\n",
    "\n",
    "train_label_test = train_label_temp.loc[test_idx]\n",
    "pos_label = train_label_test[train_label_test==1]\n",
    "neg_label = train_label_test[train_label_test==0]\n",
    "\n",
    "pred_df = pd.Series(predictions, index=train_label_test.index) #convert numpy array to pandas series \n",
    "pos_pred = pred_df[pos_label.index]\n",
    "neg_pred = pred_df[neg_label.index]\n",
    "\n",
    "TP = sum(pos_pred == pos_label)/pos_label.shape[0]\n",
    "TN = sum(neg_pred == neg_label)/neg_label.shape[0]\n",
    "Prec = sum(pos_pred == pos_label)/(sum(pos_pred == pos_label)+sum(neg_pred != neg_label))\n",
    "FM = 2*Prec*TP/(Prec+TP)\n",
    "CM = np.matrix([[sum(pos_pred == pos_label), sum(pos_pred != pos_label)], \n",
    "                   [sum(neg_pred != neg_label), sum(neg_pred == neg_label)]])\n",
    "\n",
    "print(TP,TN,Prec,FM,acc)\n",
    "print(CM)"
   ]
  },
  {
   "cell_type": "code",
   "execution_count": null,
   "metadata": {
    "collapsed": true
   },
   "outputs": [],
   "source": []
  }
 ],
 "metadata": {
  "kernelspec": {
   "display_name": "Python 3",
   "language": "python",
   "name": "python3"
  },
  "language_info": {
   "codemirror_mode": {
    "name": "ipython",
    "version": 3
   },
   "file_extension": ".py",
   "mimetype": "text/x-python",
   "name": "python",
   "nbconvert_exporter": "python",
   "pygments_lexer": "ipython3",
   "version": "3.5.1"
  }
 },
 "nbformat": 4,
 "nbformat_minor": 0
}
